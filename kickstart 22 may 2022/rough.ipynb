{
 "cells": [
  {
   "cell_type": "code",
   "execution_count": 16,
   "metadata": {},
   "outputs": [],
   "source": [
    "def find(num,n):\n",
    "    l1=[i for i in range(1,n+1)]\n",
    "    l2=[int((i*(i+1))/2) for i in l1]\n",
    "    print(l1)\n",
    "    print(l2)\n",
    "    if num in l1:\n",
    "        return [num]\n",
    "    elif num in l2:\n",
    "        return l1[:(l2.index(num)+1)]"
   ]
  },
  {
   "cell_type": "code",
   "execution_count": null,
   "metadata": {},
   "outputs": [],
   "source": []
  },
  {
   "cell_type": "code",
   "execution_count": 20,
   "metadata": {},
   "outputs": [
    {
     "name": "stdout",
     "output_type": "stream",
     "text": [
      "[1, 2, 3, 4, 5, 6, 7, 8, 9, 10]\n",
      "[1, 3, 6, 10, 15, 21, 28, 36, 45, 55]\n",
      "1 2 3 4 5\n"
     ]
    }
   ],
   "source": [
    "# print(find(3,10))\n",
    "# l=[1, 2, 3, 4, 5, 6, 7, 8, 9, 10]\n",
    "# l.index(4)\n",
    "print(' '.join(str(x) for x in find(15,10)))"
   ]
  },
  {
   "cell_type": "code",
   "execution_count": null,
   "metadata": {},
   "outputs": [],
   "source": [
    "\n",
    "test_case=int(input())\n",
    "for t in range(test_case):\n",
    "    n,x,y=input().split(sep=\" \")\n",
    "    n=int(n)\n",
    "    x=int(x)\n",
    "    y=int(y)\n",
    "    summ=(n*(n+1))/2\n",
    "    if summ%(x+y)==0:\n",
    "        print(\"Case #\",(t+1),\": \",\"POSSIBLE\",sep=\"\")\n",
    "        num=x*(summ/(x+y))\n",
    "        find(num,n)\n",
    "    else:\n",
    "        print(\"Case #\",(t+1),\": \",\"IMPOSSIBLE\",sep=\"\")\n",
    "\n",
    "\n"
   ]
  },
  {
   "cell_type": "code",
   "execution_count": 62,
   "metadata": {},
   "outputs": [],
   "source": [
    "a = 2\n",
    "x = [10, 4, 2, 17]"
   ]
  },
  {
   "cell_type": "code",
   "execution_count": 7,
   "metadata": {},
   "outputs": [
    {
     "data": {
      "text/plain": [
       "23"
      ]
     },
     "execution_count": 7,
     "metadata": {},
     "output_type": "execute_result"
    }
   ],
   "source": [
    "l=[b-a for b in x]\n",
    "l.sort()\n",
    "summ=l[-1]+l[-2]\n",
    "summ"
   ]
  },
  {
   "cell_type": "code",
   "execution_count": 65,
   "metadata": {},
   "outputs": [],
   "source": [
    "N = 2\n",
    "A = [1, 3, 5, 2, 1, 1]"
   ]
  },
  {
   "cell_type": "code",
   "execution_count": 40,
   "metadata": {},
   "outputs": [],
   "source": [
    "N = 2\n",
    "A = [1, 1, 5, 3, 7, 7]"
   ]
  },
  {
   "cell_type": "code",
   "execution_count": 55,
   "metadata": {},
   "outputs": [],
   "source": [
    "N= 100\n",
    "A= [47,46,31,39,64,76,76,30,24,83,74,33,37,7,47,67,100,78,41,17,52,40,48,57,58,3,82,11,40,100,92,10,32,62,76,82,53,61,15,75,9,29,59,88,52,63,31,83,80,70,54,96,9,87,95,78,89,66,37,21,19,3,96,100,30,69,33,18,82,44,61,93,26,3,91,42,67,95,44,68,73,26,9,98,70,67,34,95,26,53,98,25,81,35,18,23,86,50,62,7,97,94,1,16,87,39,65,90,36,70,22,83,68,91,50,61,42,37,73,28,53,39,34,61,28,74,32,35,41,49,100,61,51,14,34,22,17,86,21,74,53,3,11,38,51,33,81,29,83,84,63,53,10,28,91,83,88,83,48,78,42,49,55,40,67,47,8,73,70,90,7,92,23,44,40,71,44,7,65,40,14,80,47,20,30,28,57,12,80,44,46,46,32,32,6,61,23,41,95,31,81,96,79,48,38,35,15,59,83,59,32,75,77,17,2,5,40,66,50,54,91,5,57,57,53,21,70,29,48,46,22,45,43,67,38,11,75,16,57,4,85,57,9,63,3,3,27,62,1,68,86,10,21,88,89,58,41,94,55,31,69,10,44,11,6,59,91,57,72,75,47,1,84,48,50,91,1,13,5,89,55,16,29,10,12,25,71,18,45,99,21,32,87,6,70,6,72,94,38,40]"
   ]
  },
  {
   "cell_type": "code",
   "execution_count": 41,
   "metadata": {},
   "outputs": [],
   "source": []
  },
  {
   "cell_type": "code",
   "execution_count": 67,
   "metadata": {},
   "outputs": [
    {
     "name": "stdout",
     "output_type": "stream",
     "text": [
      "3\n",
      "a [1, 3, 5]\n",
      "b [1, 1, 2]\n",
      "p1 1\n",
      "1\n",
      "3\n",
      "3\n",
      "l1 [3, 5]\n",
      "l2 [1, 1]\n",
      "l1 [1, 3]\n",
      "l2 [1, 2]\n",
      "l1 [3, 5]\n",
      "l2 [1, 1]\n",
      "l1 [1, 3]\n",
      "l2 [1, 2]\n",
      "3\n",
      "a [1, 3, 5]\n",
      "b [1, 1, 2]\n",
      "p1 1\n",
      "1\n",
      "3\n",
      "3\n",
      "l1 [3, 5]\n",
      "l2 [1, 1]\n",
      "l1 [1, 3]\n",
      "l2 [1, 2]\n",
      "l1 [3, 5]\n",
      "l2 [1, 1]\n",
      "l1 [1, 3]\n",
      "l2 [1, 2]\n"
     ]
    },
    {
     "data": {
      "text/plain": [
       "(6, 6)"
      ]
     },
     "execution_count": 67,
     "metadata": {},
     "output_type": "execute_result"
    }
   ],
   "source": [
    "import math\n",
    "\n",
    "def mach(l1,l2):\n",
    "    print(\"l1\",l1)\n",
    "    print(\"l2\",l2)\n",
    "    s1=0\n",
    "    s2=0\n",
    "    for i in l1:\n",
    "        s1+=i\n",
    "    for i in l2:\n",
    "        s2+=i\n",
    "    return (s1-s2)\n",
    "\n",
    "def cal(a,b,N):\n",
    "\n",
    "    print(\"a\",a)\n",
    "    print(\"b\",b)\n",
    "\n",
    "    p1=math.ceil(N/2)\n",
    "    print(\"p1\",p1)\n",
    "    p2=math.floor(N/2)\n",
    "    print(p2)\n",
    "    al=len(a)\n",
    "    \n",
    "    print(al)\n",
    "\n",
    "    bl=len(b)\n",
    "    print(bl)\n",
    "\n",
    "\n",
    "    r1=mach(a[p1:],b[:bl-p2])\n",
    "    r2=mach(a[:al-p1],b[p2:])\n",
    "\n",
    "\n",
    "    p3=math.floor(N/2)\n",
    "    p4=math.ceil(N/2)\n",
    "    \n",
    "    r3=mach(a[p3:],b[:bl-p4])\n",
    "    r4=mach(a[:al-p3],b[p4:])\n",
    "    \n",
    "    r=max(r1,r2,r3,r4)\n",
    "    r\n",
    "\n",
    "\n",
    "    return r\n",
    "\n",
    "l=len(A)\n",
    "mid=int(math.ceil(l/2))\n",
    "print(mid)\n",
    "a=A[:mid]\n",
    "b=A[mid:]\n",
    "a.sort()\n",
    "b.sort()\n",
    "\n",
    "x=cal(a,b,N)\n",
    "\n",
    "mid=int(math.floor(l/2))\n",
    "print(mid)\n",
    "a=A[:mid]\n",
    "b=A[mid:]\n",
    "a.sort()\n",
    "b.sort()\n",
    "\n",
    "y=cal(a,b,N)\n",
    "\n",
    "x,y"
   ]
  },
  {
   "cell_type": "code",
   "execution_count": 60,
   "metadata": {},
   "outputs": [
    {
     "data": {
      "text/plain": [
       "([1, 2], [3, 4])"
      ]
     },
     "execution_count": 60,
     "metadata": {},
     "output_type": "execute_result"
    }
   ],
   "source": [
    "l=[1,2,3,4]\n",
    "l[:2],l[2:]"
   ]
  }
 ],
 "metadata": {
  "kernelspec": {
   "display_name": "Python 3.9.6 64-bit",
   "language": "python",
   "name": "python3"
  },
  "language_info": {
   "codemirror_mode": {
    "name": "ipython",
    "version": 3
   },
   "file_extension": ".py",
   "mimetype": "text/x-python",
   "name": "python",
   "nbconvert_exporter": "python",
   "pygments_lexer": "ipython3",
   "version": "3.9.6"
  },
  "orig_nbformat": 4,
  "vscode": {
   "interpreter": {
    "hash": "88d3c7f943f4b0baa604ca5402475141851a2a60685e257c208367fa8bd20c7f"
   }
  }
 },
 "nbformat": 4,
 "nbformat_minor": 2
}
