{
 "cells": [
  {
   "cell_type": "code",
   "execution_count": 12,
   "id": "a75b5e31",
   "metadata": {},
   "outputs": [
    {
     "name": "stdout",
     "output_type": "stream",
     "text": [
      "Passed: doubleBeauty(3, [3, 2, 1]) returned 12, expected 12\n",
      "Passed: doubleBeauty(2, [5, 4, 3]) returned 18, expected 18\n",
      "Passed: doubleBeauty(1, [10]) returned 20, expected 20\n",
      "Passed: doubleBeauty(1, [8, 7]) returned 16, expected 16\n",
      "Passed: doubleBeauty(2, [4, 4, 3, 1]) returned 16, expected 16\n"
     ]
    }
   ],
   "source": [
    "from typing import *\n",
    "\n",
    "\n",
    "def doubleBeauty(k: int, a: List[int]) -> int:\n",
    "    # write your code here\n",
    "    a.sort(reverse=True)\n",
    "    if len(a)<2:\n",
    "        return a[0]*2\n",
    "    else:\n",
    "        return sum(a[:k])*2\n",
    "\n",
    "def check_doubleBeauty(n, arr, expected):\n",
    "    result = doubleBeauty(n, arr)\n",
    "    if result != expected:\n",
    "        print(f\"Failed: doubleBeauty({n}, {arr}) returned {result}, expected {expected}\")\n",
    "    else:\n",
    "        print(f\"Passed: doubleBeauty({n}, {arr}) returned {result}, expected {expected}\")\n",
    "\n",
    "check_doubleBeauty(3, [1, 2, 3],12)\n",
    "check_doubleBeauty(2, [5, 4, 3],18)\n",
    "check_doubleBeauty(1, [10],20)\n",
    "check_doubleBeauty(1, [7, 8],16)\n",
    "check_doubleBeauty(2, [1, 4, 3, 4],16)\n"
   ]
  },
  {
   "cell_type": "code",
   "execution_count": 29,
   "id": "0b78817a",
   "metadata": {},
   "outputs": [
    {
     "name": "stdout",
     "output_type": "stream",
     "text": [
      "Checking prefix: aaab, suffix: abaa\n",
      "Checking prefix: aaa, suffix: baa\n",
      "Checking prefix: aa, suffix: aa\n",
      "Checking prefix: a, suffix: a\n"
     ]
    },
    {
     "data": {
      "text/plain": [
       "'a'"
      ]
     },
     "execution_count": 29,
     "metadata": {},
     "output_type": "execute_result"
    }
   ],
   "source": [
    "from os import *\n",
    "from sys import *\n",
    "from collections import *\n",
    "from math import *\n",
    "\n",
    "from typing import *\n",
    "\n",
    "def count(n: int, s: str) -> str:\n",
    "    s_len = len(s)\n",
    "    if s_len<3:\n",
    "        print(\"String length must be at least 3\")\n",
    "        return ''\n",
    "    # elif s_len == 3:\n",
    "    #     if s[0] == s[2] and s[0] == s[1]:\n",
    "    #         return s[0]\n",
    "    #     else:\n",
    "    #         return ''\n",
    "    for i in range((len(s)-2),0,-1):\n",
    "        pre = s[:i]\n",
    "        post = s[s_len-i:]\n",
    "        print(f\"Checking prefix: {pre}, suffix: {post}\")\n",
    "        if pre == post and pre in s[1:s_len-1]:\n",
    "            return pre\n",
    "    return ''\n",
    "count(5, 'aaabaa')\n",
    "count(5, 'aaa')"
   ]
  },
  {
   "cell_type": "code",
   "execution_count": 22,
   "id": "e0077fd4",
   "metadata": {},
   "outputs": [],
   "source": [
    "for i in range((3-2),1,-1):\n",
    "    print(i)"
   ]
  }
 ],
 "metadata": {
  "kernelspec": {
   "display_name": "Python 3",
   "language": "python",
   "name": "python3"
  },
  "language_info": {
   "codemirror_mode": {
    "name": "ipython",
    "version": 3
   },
   "file_extension": ".py",
   "mimetype": "text/x-python",
   "name": "python",
   "nbconvert_exporter": "python",
   "pygments_lexer": "ipython3",
   "version": "3.12.1"
  }
 },
 "nbformat": 4,
 "nbformat_minor": 5
}
