{
 "cells": [
  {
   "cell_type": "code",
   "execution_count": null,
   "id": "91233fbe",
   "metadata": {},
   "outputs": [],
   "source": [
    "# Problem statement:\n",
    "# A robot is located at the top-left corner of a m x n grid (marked 'Start' in the diagram below).\n",
    "\n",
    "# The robot can only move either down or right at any point in time. The robot is trying to reach the bottom-right corner of the grid (marked 'Finish' in the diagram below).\n",
    "\n",
    "# Now consider if some obstacles are added to the grids. How many unique paths would there be?\n",
    "\n",
    "# Write a function to return the number of unique paths that would exist in a grid of size m x n, where the robot can only move either down or right at any point in time.\n",
    "\n",
    "# An obstacle and empty space is marked as 1 and 0 respectively in the grid.\n",
    "\n",
    "# Note: m and n will be at most 100.\n",
    "\n",
    "# Example 1:\n",
    "\n",
    "# Input:\n",
    "\n",
    "# [\n",
    "#   [0,0,0],\n",
    "#   [0,1,0],\n",
    "#   [0,0,0]\n",
    "# ]\n",
    "# Output: 2\n",
    "\n",
    "# Explanation:\n",
    "\n",
    "# There is one obstacle in the middle of the 3x3 grid above.\n",
    "\n",
    "# There are two ways to reach the bottom-right corner:\n",
    "\n",
    "# Right -> Right -> Down -> Down\n",
    "# Down -> Down -> Right -> Right\n",
    "\n",
    "from typing import List\n",
    "class Solution:\n",
    "    def uniquePathsWithObstacles(self, obstacleGrid: List[List[int]]) -> int:\n",
    "        size = len(obstacleGrid)\n",
    "        if size == 0 or obstacleGrid[0][0] == 1 or obstacleGrid[size - 1][len(obstacleGrid[0]) - 1] == 1:\n",
    "            return 0\n",
    "        if size == 1:\n",
    "            return 1 if obstacleGrid[0][0] == 0 else 0\n",
    "        dp = [[0 for _ in range(len(obstacleGrid[0]))] for _ in range(size)]\n",
    "        dp[0][0] = 1\n",
    "        for i in range(size):\n",
    "            for j in range(len(obstacleGrid[0])):\n",
    "                if obstacleGrid[i][j] == 1:\n",
    "                    dp[i][j] = 0\n",
    "                else:\n",
    "                    if i > 0:\n",
    "                        dp[i][j] += dp[i - 1][j]\n",
    "                    if j > 0:\n",
    "                        dp[i][j] += dp[i][j - 1]\n",
    "        return dp[size - 1][len(obstacleGrid[0]) - 1]\n",
    "        # your code here"
   ]
  },
  {
   "cell_type": "code",
   "execution_count": 7,
   "id": "3fa99aae",
   "metadata": {},
   "outputs": [
    {
     "name": "stdout",
     "output_type": "stream",
     "text": [
      "size 3\n",
      "Output:2 2\n",
      "size 2\n",
      "Output:1 1\n",
      "size 2\n",
      "Output:1 1\n",
      "Output:0 0\n",
      "Output:0 0\n",
      "size 3\n",
      "Output:1 1\n"
     ]
    }
   ],
   "source": [
    "s = Solution()\n",
    "print(\"Output:2\",s.uniquePathsWithObstacles([[0, 0, 0], [0, 1, 0], [0, 0, 0]]))  # Output: 2\n",
    "print(\"Output:1\",s.uniquePathsWithObstacles([[0, 1], [0, 0]]))  # Output: 1\n",
    "print(\"Output:1\",s.uniquePathsWithObstacles([[0, 0], [1, 0]]))  # Output: 1\n",
    "print(\"Output:0\",s.uniquePathsWithObstacles([[0, 0], [0, 1]]))  # Output: 0\n",
    "print(\"Output:0\",s.uniquePathsWithObstacles([[0, 0], [1, 1]]))  # Output: 0\n",
    "print(\"Output:1\",s.uniquePathsWithObstacles([[0, 0, 0], [1, 1, 0], [0, 0, 0]]))  # Output: 1\n"
   ]
  },
  {
   "cell_type": "code",
   "execution_count": 8,
   "id": "56127545",
   "metadata": {},
   "outputs": [],
   "source": [
    "# Problem statement:\n",
    "# There are a total of n courses you have to take, labeled from 0 to n-1.\n",
    "\n",
    "# Some courses may have prerequisites, for example to take course 0 you have to first take course 1, which is expressed as a pair: [0,1]\n",
    "\n",
    "# Given the total number of courses and a list of prerequisite pairs, is it possible for you to finish all courses?\n",
    "\n",
    "# Write a function to return true if you can finish all courses. Otherwise, return false.\n",
    "\n",
    "# Example 1:\n",
    "\n",
    "# Input: 2, [[1,0]]\n",
    "\n",
    "# Output: true\n",
    "\n",
    "# Explanation: There are a total of 2 courses to take. To take course 1 you should have finished course 0. So it is possible.\n",
    "\n",
    "# Example 2:\n",
    "\n",
    "# Input: 2, [[1,0],[0,1]]\n",
    "\n",
    "# Output: false\n",
    "\n",
    "# Explanation: There are a total of 2 courses to take. To take course 1 you should have finished course 0, and to take course 0 you should also have finished course 1. So it is impossible.\n",
    "\n",
    "# Note:\n",
    "\n",
    "#    The input prerequisites is a graph represented by a list of edges, not adjacency matrices. Read more about how a graph is represented.\n",
    "#    You may assume that there are no duplicate edges in the input prerequisites.\n",
    "\n",
    "from typing import List\n",
    "\n",
    "class Solution:\n",
    "\n",
    "    def canFinish(self, numCourses: int, prerequisites: List[List[int]]) -> bool:\n",
    "        graph = {}\n",
    "        for course, prereq in prerequisites:\n",
    "            if course not in graph:\n",
    "                graph[course] = []\n",
    "            graph[course].append(prereq)\n",
    "            for key in graph.keys(): \n",
    "                if course in graph[key]:\n",
    "                    graph[key].append(prereq)\n",
    "                    if key == prereq:\n",
    "                        return False\n",
    "        return True\n"
   ]
  },
  {
   "cell_type": "code",
   "execution_count": 9,
   "id": "7bc283c6",
   "metadata": {},
   "outputs": [
    {
     "name": "stdout",
     "output_type": "stream",
     "text": [
      "Output: True Got:  True\n",
      "Output: False Got:  False\n",
      "Output: True Got:  True\n"
     ]
    }
   ],
   "source": [
    "s = Solution()\n",
    "print('Output: True Got: ',s.canFinish(2, [[1, 0]]))  # Output: True\n",
    "print('Output: False Got: ',s.canFinish(2, [[1, 0],[0, 1]]))  # Output: False\n",
    "print('Output: True Got: ',s.canFinish(5, [[1, 0],[2, 1],[3, 1],[4, 1]]))  # Output: True\n"
   ]
  }
 ],
 "metadata": {
  "kernelspec": {
   "display_name": "Python (cloth_color_env)",
   "language": "python",
   "name": "cloth_color_env"
  },
  "language_info": {
   "codemirror_mode": {
    "name": "ipython",
    "version": 3
   },
   "file_extension": ".py",
   "mimetype": "text/x-python",
   "name": "python",
   "nbconvert_exporter": "python",
   "pygments_lexer": "ipython3",
   "version": "3.13.3"
  }
 },
 "nbformat": 4,
 "nbformat_minor": 5
}
