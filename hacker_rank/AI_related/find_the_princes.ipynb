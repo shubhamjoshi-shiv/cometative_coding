{
 "cells": [
  {
   "attachments": {},
   "cell_type": "markdown",
   "metadata": {},
   "source": [
    "Princess Peach is trapped in one of the four corners of a square grid. You are in the center of the grid and can move one step at a time in any of the four directions. Can you rescue the princess?\n",
    "\n",
    "Input format\n",
    "\n",
    "The first line contains an odd integer N (3 <= N < 100) denoting the size of the grid. This is followed by an NxN grid. Each cell is denoted by '-' (ascii value: 45). The bot position is denoted by 'm' and the princess position is denoted by 'p'.\n",
    "\n",
    "Grid is indexed using Matrix Convention\n",
    "\n",
    "Output format\n",
    "\n",
    "Print out the moves you will take to rescue the princess in one go. The moves must be separated by '\\n', a newline. The valid moves are LEFT or RIGHT or UP or DOWN.\n",
    "\n",
    "Sample input\n",
    "\n",
    "3\n",
    "---\n",
    "-m-\n",
    "p--\n",
    "Sample output\n",
    "\n",
    "DOWN\n",
    "LEFT\n",
    "Task\n",
    "\n",
    "Complete the function displayPathtoPrincess which takes in two parameters - the integer N and the character array grid. The grid will be formatted exactly as you see it in the input, so for the sample input the princess is at grid[2][0]. The function shall output moves (LEFT, RIGHT, UP or DOWN) on consecutive lines to rescue/reach the princess. The goal is to reach the princess in as few moves as possible.\n",
    "\n",
    "The above sample input is just to help you understand the format. The princess ('p') can be in any one of the four corners.\n",
    "\n",
    "Scoring\n",
    "Your score is calculated as follows : (NxN - number of moves made to rescue the princess)/10, where N is the size of the grid (3x3 in the sample testcase)."
   ]
  },
  {
   "cell_type": "code",
   "execution_count": 1,
   "metadata": {},
   "outputs": [
    {
     "name": "stdout",
     "output_type": "stream",
     "text": [
      "['-m', '-p']\n"
     ]
    }
   ],
   "source": [
    "#!/usr/bin/python\n",
    "\n",
    "def displayPathtoPrincess(n,grid):\n",
    "    #print all the moves here\n",
    "\n",
    "m = int(input())\n",
    "grid = []\n",
    "for i in range(0, m):\n",
    "    grid.append(input().strip())\n",
    "\n",
    "displayPathtoPrincess(m,grid)"
   ]
  },
  {
   "cell_type": "code",
   "execution_count": 13,
   "metadata": {},
   "outputs": [
    {
     "name": "stdout",
     "output_type": "stream",
     "text": [
      "{'m': [1, 1], 'p': [0, 2]}\n"
     ]
    }
   ],
   "source": [
    "def find_position(m,grid,search_term):\n",
    "    result={}\n",
    "    for i in range(m):\n",
    "        for j in range(len(grid[i])):\n",
    "            term=grid[i][j]\n",
    "            if term in search_term:\n",
    "                result[term]=[j,i]\n",
    "    return result\n",
    "\n",
    "# tc1\n",
    "m=2\n",
    "grid=['-m', '-p']\n",
    "# tc2\n",
    "m=3\n",
    "grid=['---',\n",
    "'-m-',\n",
    "'p--']\n",
    "\n",
    "search_term=['m','p']\n",
    "result = find_position(m,grid,search_term)\n",
    "print(result)\n"
   ]
  },
  {
   "cell_type": "code",
   "execution_count": 14,
   "metadata": {},
   "outputs": [
    {
     "name": "stdout",
     "output_type": "stream",
     "text": [
      "[1, -1]\n"
     ]
    }
   ],
   "source": [
    "def subtract_position(p1,p2):\n",
    "    result=[]\n",
    "    for i in range(2):\n",
    "        result.append(p1[i]-p2[i])\n",
    "    return result\n",
    "\n",
    "position = {'m': [1, 1], 'p': [0, 2]}\n",
    "result=subtract_position(position['m'],position['p'])\n",
    "print(result)"
   ]
  },
  {
   "cell_type": "code",
   "execution_count": 18,
   "metadata": {},
   "outputs": [
    {
     "name": "stdout",
     "output_type": "stream",
     "text": [
      "RIGHT\n",
      "UP\n"
     ]
    }
   ],
   "source": [
    "subtract_position_result=[-1, 1]\n",
    "\n",
    "def subtract_position_result_to_steps(x,y):\n",
    "    if x>0:\n",
    "        for i in range(x):\n",
    "            print('LEFT')\n",
    "    else:\n",
    "        for i in range(x*-1):\n",
    "            print('RIGHT')\n",
    "    if y>0:\n",
    "        for i in range(y):\n",
    "            print('UP')\n",
    "    else:\n",
    "        for i in range(y*-1):\n",
    "            print('DOWN')\n",
    "\n",
    "x,y=subtract_position_result\n",
    "subtract_position_result_to_steps(x,y)"
   ]
  },
  {
   "cell_type": "code",
   "execution_count": 23,
   "metadata": {},
   "outputs": [
    {
     "name": "stdout",
     "output_type": "stream",
     "text": [
      "RIGHT\n",
      "RIGHT\n",
      "RIGHT\n",
      "UP\n",
      "UP\n"
     ]
    }
   ],
   "source": [
    "def displayPathtoPrincess(n,grid):\n",
    "    #print all the moves here\n",
    "    search_term=['m','p']\n",
    "    position=find_position(m,grid,search_term)\n",
    "    # print(f'position : {position}')\n",
    "    x,y=subtract_position(position['m'],position['p'])\n",
    "    # print(f\"x : {x}\\ny : {y}\")\n",
    "    subtract_position_result_to_steps(x,y)\n",
    "\n",
    "\n",
    "# tc1\n",
    "m=2\n",
    "grid=['-m',\n",
    "      '-p']\n",
    "# tc2\n",
    "m=3\n",
    "grid=['---',\n",
    "'-m-',\n",
    "'p--']\n",
    "# tc3\n",
    "m=4\n",
    "grid=['----',\n",
    "'---p',\n",
    "'----',\n",
    "'m---']\n",
    "displayPathtoPrincess(m,grid)"
   ]
  },
  {
   "cell_type": "code",
   "execution_count": null,
   "metadata": {},
   "outputs": [],
   "source": []
  }
 ],
 "metadata": {
  "kernelspec": {
   "display_name": "Python 3",
   "language": "python",
   "name": "python3"
  },
  "language_info": {
   "codemirror_mode": {
    "name": "ipython",
    "version": 3
   },
   "file_extension": ".py",
   "mimetype": "text/x-python",
   "name": "python",
   "nbconvert_exporter": "python",
   "pygments_lexer": "ipython3",
   "version": "3.9.6"
  },
  "orig_nbformat": 4
 },
 "nbformat": 4,
 "nbformat_minor": 2
}
