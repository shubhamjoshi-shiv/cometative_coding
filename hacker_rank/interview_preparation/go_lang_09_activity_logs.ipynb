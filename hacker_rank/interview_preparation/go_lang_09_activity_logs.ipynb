{
 "cells": [
  {
   "cell_type": "code",
   "execution_count": null,
   "metadata": {},
   "outputs": [],
   "source": []
  },
  {
   "cell_type": "code",
   "execution_count": 10,
   "metadata": {},
   "outputs": [
    {
     "name": "stdout",
     "output_type": "stream",
     "text": [
      "a=88,b=99,c=200\n",
      "a=88,b=99,c=300\n",
      "a=99,b=32,c=100\n",
      "a=12,b=12,c=15\n",
      "{88: 2, 99: 3, 32: 1, 12: 1}\n"
     ]
    }
   ],
   "source": [
    "def get_user_transaction(logs:list)->dict:\n",
    "    user_transaction = {}\n",
    "    for transaction in logs:\n",
    "        a,b,c = [int(i) for i in transaction.split(\" \")]\n",
    "        print(f\"a={a},b={b},c={c}\")\n",
    "\n",
    "        if a == b:\n",
    "            if a in user_transaction.keys():\n",
    "                user_transaction[a] = user_transaction[a] + 1\n",
    "            else:\n",
    "                user_transaction[a] = 1\n",
    "        else:\n",
    "            if a in user_transaction.keys():\n",
    "                user_transaction[a] = user_transaction[a] + 1\n",
    "            else:\n",
    "                user_transaction[a] = 1\n",
    "            if b in user_transaction.keys():\n",
    "                user_transaction[b] = user_transaction[b] + 1\n",
    "            else:\n",
    "                user_transaction[b] = 1\n",
    "    return user_transaction\n",
    "\n",
    "# test_1\n",
    "logs=[\"88 99 200\",\"88 99 300\",\"99 32 100\",\"12 12 15\"]\n",
    "print(get_user_transaction(logs))"
   ]
  },
  {
   "cell_type": "code",
   "execution_count": 12,
   "metadata": {},
   "outputs": [
    {
     "name": "stdout",
     "output_type": "stream",
     "text": [
      "a=88,b=99,c=200\n",
      "a=88,b=99,c=300\n",
      "a=99,b=32,c=100\n",
      "a=12,b=12,c=15\n",
      "[88, 99]\n"
     ]
    }
   ],
   "source": [
    "def process_logs(logs:list,threshold:int)->list:\n",
    "    user_transaction = get_user_transaction(logs)\n",
    "\n",
    "    sus_users = []\n",
    "\n",
    "    for k in user_transaction.keys():\n",
    "        if user_transaction[k] >= threshold:\n",
    "            sus_users.append(k)\n",
    "\n",
    "    sus_users.sort()\n",
    "    return sus_users\n",
    "\n",
    "\n",
    "logs=[\"88 99 200\",\"88 99 300\",\"99 32 100\",\"12 12 15\"]\n",
    "threshold = 2\n",
    "print(process_logs(logs,threshold))"
   ]
  },
  {
   "cell_type": "code",
   "execution_count": 16,
   "metadata": {},
   "outputs": [
    {
     "name": "stdout",
     "output_type": "stream",
     "text": [
      "[1, 2, 3, 4]\n"
     ]
    }
   ],
   "source": [
    "l=[4,1,2,3]\n",
    "l.sort()\n",
    "print(l)"
   ]
  },
  {
   "cell_type": "code",
   "execution_count": null,
   "metadata": {},
   "outputs": [],
   "source": []
  }
 ],
 "metadata": {
  "kernelspec": {
   "display_name": "Python 3",
   "language": "python",
   "name": "python3"
  },
  "language_info": {
   "codemirror_mode": {
    "name": "ipython",
    "version": 3
   },
   "file_extension": ".py",
   "mimetype": "text/x-python",
   "name": "python",
   "nbconvert_exporter": "python",
   "pygments_lexer": "ipython3",
   "version": "3.9.6"
  },
  "orig_nbformat": 4
 },
 "nbformat": 4,
 "nbformat_minor": 2
}
