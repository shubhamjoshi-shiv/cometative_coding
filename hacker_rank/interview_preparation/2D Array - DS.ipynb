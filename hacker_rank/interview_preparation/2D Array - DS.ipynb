{
 "cells": [
  {
   "cell_type": "code",
   "execution_count": 1,
   "metadata": {},
   "outputs": [
    {
     "name": "stdout",
     "output_type": "stream",
     "text": [
      "[3, 3, 2, 2, 2]\n"
     ]
    }
   ],
   "source": [
    "def moving_window_sum(arr,window_size):\n",
    "    result_arr=[]\n",
    "    arr_len=len(arr)\n",
    "    num_of_window=arr_len-window_size-1\n",
    "    window=arr[:window_size]\n",
    "    window_sum=sum(window)\n",
    "    result_arr.append(window_sum)\n",
    "    for i in range(num_of_window):\n",
    "        next_element=arr[window_size+i]\n",
    "        previous_element=arr[i]\n",
    "        window_sum=window_sum+next_element-previous_element\n",
    "        result_arr.append(window_sum)\n",
    "    return result_arr\n",
    "\n",
    "\n",
    "# test\n",
    "arr=[1,2,1,1,1,1,1]\n",
    "window_size=2\n",
    "print(moving_window_sum(arr,window_size))"
   ]
  },
  {
   "cell_type": "code",
   "execution_count": null,
   "metadata": {},
   "outputs": [],
   "source": []
  }
 ],
 "metadata": {
  "kernelspec": {
   "display_name": "Python 3",
   "language": "python",
   "name": "python3"
  },
  "language_info": {
   "codemirror_mode": {
    "name": "ipython",
    "version": 3
   },
   "file_extension": ".py",
   "mimetype": "text/x-python",
   "name": "python",
   "nbconvert_exporter": "python",
   "pygments_lexer": "ipython3",
   "version": "3.9.6"
  },
  "orig_nbformat": 4,
  "vscode": {
   "interpreter": {
    "hash": "88d3c7f943f4b0baa604ca5402475141851a2a60685e257c208367fa8bd20c7f"
   }
  }
 },
 "nbformat": 4,
 "nbformat_minor": 2
}
