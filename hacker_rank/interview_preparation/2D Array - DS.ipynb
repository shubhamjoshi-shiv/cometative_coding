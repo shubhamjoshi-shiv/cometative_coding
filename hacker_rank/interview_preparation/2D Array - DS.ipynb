{
 "cells": [
  {
   "cell_type": "code",
   "execution_count": 10,
   "metadata": {},
   "outputs": [
    {
     "name": "stdout",
     "output_type": "stream",
     "text": [
      "[3, 3, 2, 2, 2, 2]\n"
     ]
    }
   ],
   "source": [
    "def moving_window_sum(arr,window_size):\n",
    "    result_arr = []\n",
    "    arr_len = len(arr)\n",
    "    num_of_window = arr_len-window_size + 1\n",
    "    window = arr[:window_size]\n",
    "    window_sum = sum(window)\n",
    "    result_arr.append(window_sum)\n",
    "    for i in range(num_of_window-1):\n",
    "        next_element = arr[window_size + i]\n",
    "        previous_element = arr[i]\n",
    "        window_sum = window_sum + next_element-previous_element\n",
    "        result_arr.append(window_sum)\n",
    "    return result_arr\n",
    "\n",
    "\n",
    "# test\n",
    "arr = [1,2,1,1,1,1,1]\n",
    "window_size = 2\n",
    "#print(moving_window_sum(arr,window_size))"
   ]
  },
  {
   "cell_type": "code",
   "execution_count": 35,
   "metadata": {},
   "outputs": [
    {
     "name": "stdout",
     "output_type": "stream",
     "text": [
      "[[-27, -17, -7, 3], [-9, -5, 7, 9], [-27, -17, -6, 6], [8, 14, 20, 12], [0, -2, -2, -2], [1, 3, 7, 6]]\n"
     ]
    }
   ],
   "source": [
    "def return_all_moving_window_sum(arr):\n",
    "    all_moving_window_sum = []\n",
    "    for i in range(6):\n",
    "        all_moving_window_sum.append(moving_window_sum(arr[i],3))\n",
    "    return all_moving_window_sum\n",
    "\n",
    "# test\n",
    "arr = [\n",
    "[-9, -9, -9,  1, 1, 1],\n",
    "[ 0, -9,  0,  4, 3, 2],\n",
    "[-9, -9, -9,  1, 2, 3],\n",
    "[ 0,  0,  8,  6, 6, 0],\n",
    "[ 0,  0,  0, -2, 0, 0],\n",
    "[ 0,  0,  1,  2, 4, 0],]\n",
    "all_moving_window_sum = return_all_moving_window_sum(arr)\n",
    "#print(all_moving_window_sum)"
   ]
  },
  {
   "cell_type": "code",
   "execution_count": 46,
   "metadata": {},
   "outputs": [
    {
     "name": "stdout",
     "output_type": "stream",
     "text": [
      "[[-9, 0, 4, 3], [-9, -9, 1, 2], [0, 8, 6, 6], [0, 0, -2, 0]]\n"
     ]
    }
   ],
   "source": [
    "def return_midpoints(arr):\n",
    "    midpoint_hg = [arr[1][1:5],arr[2][1:5],arr[3][1:5],arr[4][1:5]]\n",
    "    return midpoint_hg\n",
    "\n",
    "midpoint_hg = return_midpoints(arr)\n",
    "#print(midpoint_hg)"
   ]
  },
  {
   "cell_type": "code",
   "execution_count": 53,
   "metadata": {},
   "outputs": [],
   "source": [
    "def max_hourglass(all_moving_window_sum,midpoint_hg):\n",
    "\n",
    "    top=all_moving_window_sum[0][0]\n",
    "    mid = midpoint_hg[0][0]\n",
    "    bottom = all_moving_window_sum[2][0]\n",
    "\n",
    "    max_hourglass_sum = top + mid + bottom\n",
    "\n",
    "    for i in range(4):\n",
    "        for j in range(4):\n",
    "            top = all_moving_window_sum[i][j]\n",
    "            mid = midpoint_hg[i][j]\n",
    "            bottom = all_moving_window_sum[i + 2][j]\n",
    "            hourglass_sum = top + mid + bottom\n",
    "            if max_hourglass_sum < hourglass_sum:\n",
    "                max_hourglass_sum = hourglass_sum\n",
    "            #print(hourglass_sum,max_hourglass_sum,end = \"\\t\")\n",
    "        #print()\n",
    "    return max_hourglass_sum\n",
    "\n",
    "#print(max_hourglass(all_moving_window_sum,midpoint_hg))"
   ]
  },
  {
   "cell_type": "code",
   "execution_count": 49,
   "metadata": {},
   "outputs": [],
   "source": [
    "def hourglassSum(arr):\n",
    "    all_moving_window_sum = return_all_moving_window_sum(arr)\n",
    "    #print(all_moving_window_sum)\n",
    "    midpoint_hg = return_midpoints(arr)\n",
    "    #print(midpoint_hg)\n",
    "    max_hourglass_value= max_hourglass(all_moving_window_sum,midpoint_hg)\n",
    "    #print(max_hourglass_value)\n",
    "    return max_hourglass_value"
   ]
  },
  {
   "cell_type": "code",
   "execution_count": 54,
   "metadata": {},
   "outputs": [
    {
     "name": "stdout",
     "output_type": "stream",
     "text": [
      "[[-27, -17, -7, 3], [-9, -5, 7, 9], [-27, -17, -6, 6], [8, 14, 20, 12], [0, -2, -2, -2], [1, 3, 7, 6]]\n",
      "[[-9, 0, 4, 3], [-9, -9, 1, 2], [0, 8, 6, 6], [0, 0, -2, 0]]\n",
      "28\n",
      "[[3, 2, 1, 0], [1, 1, 0, 0], [3, 2, 1, 0], [2, 6, 10, 8], [0, 2, 2, 2], [1, 3, 7, 6]]\n",
      "[[1, 0, 0, 0], [1, 1, 0, 0], [0, 2, 4, 4], [0, 0, 2, 0]]\n",
      "19\n",
      "[[-10, -10, -13, -13], [-9, -16, -17, -12], [-14, -14, -18, -22], [-6, -8, -14, -16], [-11, -14, -15, -18], [-9, -14, -14, -21]]\n",
      "[[-2, -6, -8, -3], [-4, -2, -8, -8], [-1, -2, -5, -7], [-5, -3, -6, -6]]\n",
      "-19\n"
     ]
    }
   ],
   "source": [
    "# test 1\n",
    "arr = [\n",
    "[-9, -9, -9,  1, 1, 1],\n",
    "[ 0, -9,  0,  4, 3, 2],\n",
    "[-9, -9, -9,  1, 2, 3],\n",
    "[ 0,  0,  8,  6, 6, 0],\n",
    "[ 0,  0,  0, -2, 0, 0],\n",
    "[ 0,  0,  1,  2, 4, 0],]\n",
    "\n",
    "hourglassSum(arr)\n",
    "\n",
    "# test 2\n",
    "arr =[\n",
    "[1, 1, 1, 0, 0, 0],\n",
    "[0, 1, 0, 0, 0, 0],\n",
    "[1, 1, 1, 0, 0, 0],\n",
    "[0, 0, 2, 4, 4, 0],\n",
    "[0, 0, 0, 2, 0, 0],\n",
    "[0, 0, 1, 2, 4, 0],]\n",
    "hourglassSum(arr)\n",
    "\n",
    "\n",
    "# test 3\n",
    "arr =[\n",
    "[0, -4, -6, 0, -7, -6],\n",
    "[-1, -2, -6, -8, -3, -1],\n",
    "[-8, -4, -2, -8, -8, -6],\n",
    "[-3, -1, -2, -5, -7, -4],\n",
    "[-3, -5, -3, -6, -6, -6],\n",
    "[-3, -6, 0, -8, -6, -7]]\n",
    "hourglassSum(arr)\n"
   ]
  },
  {
   "cell_type": "code",
   "execution_count": null,
   "metadata": {},
   "outputs": [],
   "source": []
  }
 ],
 "metadata": {
  "kernelspec": {
   "display_name": "Python 3",
   "language": "python",
   "name": "python3"
  },
  "language_info": {
   "codemirror_mode": {
    "name": "ipython",
    "version": 3
   },
   "file_extension": ".py",
   "mimetype": "text/x-python",
   "name": "python",
   "nbconvert_exporter": "python",
   "pygments_lexer": "ipython3",
   "version": "3.9.6"
  },
  "orig_nbformat": 4,
  "vscode": {
   "interpreter": {
    "hash": "88d3c7f943f4b0baa604ca5402475141851a2a60685e257c208367fa8bd20c7f"
   }
  }
 },
 "nbformat": 4,
 "nbformat_minor": 2
}
