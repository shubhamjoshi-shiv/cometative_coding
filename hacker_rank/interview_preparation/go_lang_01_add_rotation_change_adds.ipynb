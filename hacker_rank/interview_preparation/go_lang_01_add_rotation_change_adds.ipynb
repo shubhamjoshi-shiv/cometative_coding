{
 "cells": [
  {
   "cell_type": "code",
   "execution_count": 15,
   "metadata": {},
   "outputs": [
    {
     "name": "stdout",
     "output_type": "stream",
     "text": [
      "['1', '1', '1', '1', '0']\n",
      "['0', '0', '0', '0', '1']\n",
      "1\n",
      "1\n",
      "['1', '1', '0', '0', '1', '0']\n",
      "['0', '0', '1', '1', '0', '1']\n",
      "13\n",
      "13\n"
     ]
    }
   ],
   "source": [
    "def change_add(n):\n",
    "    curent_screen = [i for i in bin(n)[2:]]\n",
    "    print(curent_screen)\n",
    "\n",
    "    new_screen=[]\n",
    "    for i in curent_screen:\n",
    "        if i=='0':\n",
    "            new_screen.append('1')\n",
    "        if i=='1':\n",
    "            new_screen.append('0')\n",
    "    print(new_screen)\n",
    "\n",
    "\n",
    "    num_new_screen=int(''.join(new_screen),base=2)\n",
    "    print(num_new_screen)\n",
    "    return num_new_screen\n",
    "# test\n",
    "print(change_add(30))\n",
    "print(change_add(50))"
   ]
  },
  {
   "cell_type": "code",
   "execution_count": null,
   "metadata": {},
   "outputs": [],
   "source": []
  }
 ],
 "metadata": {
  "kernelspec": {
   "display_name": "Python 3",
   "language": "python",
   "name": "python3"
  },
  "language_info": {
   "codemirror_mode": {
    "name": "ipython",
    "version": 3
   },
   "file_extension": ".py",
   "mimetype": "text/x-python",
   "name": "python",
   "nbconvert_exporter": "python",
   "pygments_lexer": "ipython3",
   "version": "3.9.6"
  },
  "orig_nbformat": 4,
  "vscode": {
   "interpreter": {
    "hash": "88d3c7f943f4b0baa604ca5402475141851a2a60685e257c208367fa8bd20c7f"
   }
  }
 },
 "nbformat": 4,
 "nbformat_minor": 2
}
