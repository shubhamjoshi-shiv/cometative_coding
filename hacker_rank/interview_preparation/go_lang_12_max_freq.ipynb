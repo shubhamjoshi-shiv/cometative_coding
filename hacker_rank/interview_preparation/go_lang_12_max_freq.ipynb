{
 "cells": [
  {
   "cell_type": "code",
   "execution_count": 1,
   "metadata": {},
   "outputs": [
    {
     "name": "stdout",
     "output_type": "stream",
     "text": [
      "init l[i]=3 \t max=2 \t freq=1 \t max_freq_list=[1]\n",
      "init l[i]=3 \t max=3 \t freq=1 \t max_freq_list=[1, 1]\n",
      "init l[i]=5 \t max=3 \t freq=1 \t max_freq_list=[1, 1]\n",
      "init l[i]=5 \t max=5 \t freq=1 \t max_freq_list=[1, 1, 1]\n",
      "init l[i]=4 \t max=5 \t freq=1 \t max_freq_list=[1, 1, 1]\n",
      "init l[i]=4 \t max=5 \t freq=1 \t max_freq_list=[1, 1, 1, 1]\n",
      "init l[i]=5 \t max=5 \t freq=1 \t max_freq_list=[1, 1, 1, 1]\n",
      "init l[i]=5 \t max=5 \t freq=2 \t max_freq_list=[1, 1, 1, 1, 2]\n",
      "[2, 1, 1, 1, 1]\n"
     ]
    }
   ],
   "source": [
    "def max_freq(l:list)->list:\n",
    "    l.reverse()\n",
    "\n",
    "    max = l[0]\n",
    "    freq = 1\n",
    "    max_freq_list= [1]\n",
    "\n",
    "    for i in range(1,len(l)):\n",
    "        print(f\"init l[i]={l[i]} \\t max={max} \\t freq={freq} \\t max_freq_list={max_freq_list}\")\n",
    "        if l[i] == max:\n",
    "            freq = freq + 1\n",
    "            max_freq_list.append(freq)\n",
    "        if l[i] > max:\n",
    "            max = l[i]\n",
    "            freq = 1\n",
    "            max_freq_list.append(freq)\n",
    "        if l[i] < max:\n",
    "            max_freq_list.append(freq)\n",
    "        print(f\"init l[i]={l[i]} \\t max={max} \\t freq={freq} \\t max_freq_list={max_freq_list}\")\n",
    "\n",
    "\n",
    "    max_freq_list.reverse()\n",
    "    return max_freq_list\n",
    "\n",
    "l=[5,4,5,3,2]\n",
    "print(max_freq(l))"
   ]
  },
  {
   "cell_type": "code",
   "execution_count": 3,
   "metadata": {},
   "outputs": [
    {
     "name": "stdout",
     "output_type": "stream",
     "text": [
      "init l[i]=3 \t max=2 \t freq=1 \t max_freq_list=[1]\n",
      "init l[i]=3 \t max=3 \t freq=1 \t max_freq_list=[1, 1]\n",
      "init l[i]=5 \t max=3 \t freq=1 \t max_freq_list=[1, 1]\n",
      "init l[i]=5 \t max=5 \t freq=1 \t max_freq_list=[1, 1, 1]\n",
      "init l[i]=4 \t max=5 \t freq=1 \t max_freq_list=[1, 1, 1]\n",
      "init l[i]=4 \t max=5 \t freq=1 \t max_freq_list=[1, 1, 1, 1]\n",
      "init l[i]=5 \t max=5 \t freq=1 \t max_freq_list=[1, 1, 1, 1]\n",
      "init l[i]=5 \t max=5 \t freq=2 \t max_freq_list=[1, 1, 1, 1, 2]\n",
      "[2, 1, 1, 1, 1]\n"
     ]
    }
   ],
   "source": [
    "def freq_of_max_value(l:list,q:list)->list:\n",
    "    max_freq_list = max_freq(l)\n",
    "\n",
    "    answer = []\n",
    "    for i in q:\n",
    "        answer.append(max_freq_list[i-1])\n",
    "\n",
    "    return answer\n",
    "\n",
    "l=[5,4,5,3,2]\n",
    "q=[1,2,3,4,5]\n",
    "print(freq_of_max_value(l,q))"
   ]
  },
  {
   "cell_type": "code",
   "execution_count": null,
   "metadata": {},
   "outputs": [],
   "source": []
  }
 ],
 "metadata": {
  "kernelspec": {
   "display_name": "Python 3",
   "language": "python",
   "name": "python3"
  },
  "language_info": {
   "codemirror_mode": {
    "name": "ipython",
    "version": 3
   },
   "file_extension": ".py",
   "mimetype": "text/x-python",
   "name": "python",
   "nbconvert_exporter": "python",
   "pygments_lexer": "ipython3",
   "version": "3.9.6"
  },
  "orig_nbformat": 4
 },
 "nbformat": 4,
 "nbformat_minor": 2
}
