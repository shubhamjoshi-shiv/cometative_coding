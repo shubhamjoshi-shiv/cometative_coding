{
 "cells": [
  {
   "cell_type": "code",
   "execution_count": 8,
   "metadata": {},
   "outputs": [
    {
     "name": "stdout",
     "output_type": "stream",
     "text": [
      "True\n",
      "False\n",
      "True\n"
     ]
    }
   ],
   "source": [
    "def is_all_vowel(s:str)->bool:\n",
    "    if \"a\" not in s:\n",
    "        return False\n",
    "    if \"e\" not in s:\n",
    "        return False\n",
    "    if \"i\" not in s:\n",
    "        return False\n",
    "    if \"o\" not in s:\n",
    "        return False\n",
    "    if \"u\" not in s:\n",
    "        return False\n",
    "    return True\n",
    "\n",
    "s=\"aeiou\"\n",
    "print(is_all_vowel(s))\n",
    "s=\"aeou\"\n",
    "print(is_all_vowel(s))\n",
    "s=\"aioeeu\"\n",
    "print(is_all_vowel(s))"
   ]
  },
  {
   "cell_type": "code",
   "execution_count": 13,
   "metadata": {},
   "outputs": [
    {
     "name": "stdout",
     "output_type": "stream",
     "text": [
      "5\n",
      "sub - aaeii sub_start - 0 sub_end - 5 sub_len -5\n",
      "sub - aeiio sub_start - 1 sub_end - 6 sub_len -5\n",
      "sub - eiioo sub_start - 2 sub_end - 7 sub_len -5\n",
      "sub - iioou sub_start - 3 sub_end - 8 sub_len -5\n",
      "sub - ioouu sub_start - 4 sub_end - 9 sub_len -5\n",
      "6\n",
      "sub - aaeiio sub_start - 0 sub_end - 6 sub_len -6\n",
      "sub - aeiioo sub_start - 1 sub_end - 7 sub_len -6\n",
      "sub - eiioou sub_start - 2 sub_end - 8 sub_len -6\n",
      "sub - iioouu sub_start - 3 sub_end - 9 sub_len -6\n",
      "7\n",
      "sub - aaeiioo sub_start - 0 sub_end - 7 sub_len -7\n",
      "------is_all_vowel\n",
      "sub - aeiioou sub_start - 1 sub_end - 8 sub_len -7\n",
      "sub - eiioouu sub_start - 2 sub_end - 9 sub_len -7\n",
      "8\n",
      "------is_all_vowel\n",
      "sub - aaeiioou sub_start - 0 sub_end - 8 sub_len -8\n",
      "------is_all_vowel\n",
      "sub - aeiioouu sub_start - 1 sub_end - 9 sub_len -8\n",
      "9\n",
      "------is_all_vowel\n",
      "sub - aaeiioouu sub_start - 0 sub_end - 9 sub_len -9\n"
     ]
    },
    {
     "data": {
      "text/plain": [
       "4"
      ]
     },
     "execution_count": 13,
     "metadata": {},
     "output_type": "execute_result"
    }
   ],
   "source": [
    "def find_total_vowel_substring(s:str,sub_len_str:int)->int:\n",
    "    total_vowel_substring = 0\n",
    "    s_len= len(s)\n",
    "    for sub_len in range(sub_len_str,s_len+1):\n",
    "        print(sub_len)\n",
    "        sub_start = 0\n",
    "        sub_end = sub_start + sub_len\n",
    "        while sub_end<=s_len:\n",
    "            sub = s[sub_start:sub_end]\n",
    "            if is_all_vowel(sub):\n",
    "                print(\"------is_all_vowel\")\n",
    "                total_vowel_substring = total_vowel_substring + 1\n",
    "            print(f\"sub - {sub} sub_start - {sub_start} sub_end - {sub_end} sub_len -{sub_len}\")\n",
    "            sub_start =sub_start +1\n",
    "            sub_end =sub_end +1\n",
    "    return total_vowel_substring\n",
    "\n",
    "\n",
    "s = \"aaeiioouu\"\n",
    "sub_len_str = 5\n",
    "find_total_vowel_substring(s,sub_len_str)"
   ]
  },
  {
   "cell_type": "code",
   "execution_count": 18,
   "metadata": {},
   "outputs": [
    {
     "name": "stdout",
     "output_type": "stream",
     "text": [
      "['aeiouuu', '', 'aeiou']\n"
     ]
    }
   ],
   "source": [
    "def find_prospective_vowel_string(s:str)->list:\n",
    "    prospective_vowel_strings = []\n",
    "    prospective_vowel_string = ''\n",
    "\n",
    "    char_list = [i for i in s]\n",
    "    char_list_len = len(char_list)\n",
    "    for i in range(0,char_list_len):\n",
    "        char = char_list[i]\n",
    "        if char not in ['a','e','i','o','u']:\n",
    "            prospective_vowel_strings.append(prospective_vowel_string)\n",
    "            prospective_vowel_string = ''\n",
    "        elif(i==char_list_len-1):\n",
    "            prospective_vowel_string = prospective_vowel_string + char\n",
    "            prospective_vowel_strings.append(prospective_vowel_string)\n",
    "            prospective_vowel_string = ''\n",
    "        else:\n",
    "            prospective_vowel_string = prospective_vowel_string + char\n",
    "\n",
    "    return prospective_vowel_strings\n",
    "\n",
    "s=\"aaavvsddeeequuu\"\n",
    "s=\"aeiouuuvvaeiou\"\n",
    "\n",
    "print(find_prospective_vowel_string(s))\n"
   ]
  },
  {
   "cell_type": "code",
   "execution_count": 22,
   "metadata": {},
   "outputs": [
    {
     "name": "stdout",
     "output_type": "stream",
     "text": [
      "==prospective_vowel_strings -aaeiou\n",
      "5\n",
      "sub - aaeio sub_start - 0 sub_end - 5 sub_len -5\n",
      "------is_all_vowel\n",
      "sub - aeiou sub_start - 1 sub_end - 6 sub_len -5\n",
      "6\n",
      "------is_all_vowel\n",
      "sub - aaeiou sub_start - 0 sub_end - 6 sub_len -6\n",
      "==prospective_vowel_strings -a\n",
      "2\n"
     ]
    }
   ],
   "source": [
    "def find_total_possible_vowel_substring(s:str)->int:\n",
    "    prospective_vowel_strings = find_prospective_vowel_string(s)\n",
    "    total_vowel_substring = 0\n",
    "    for i in prospective_vowel_strings:\n",
    "        print(f\"==prospective_vowel_strings -{i}\")\n",
    "        if len(i)>4:\n",
    "            total_vowel_substring = total_vowel_substring + find_total_vowel_substring(i,5)\n",
    "    return total_vowel_substring\n",
    "\n",
    "# # test1\n",
    "# s=\"aeiouuuvvaeiou\"\n",
    "# print(find_total_possible_vowel_substring(s))\n",
    "\n",
    "# # test2\n",
    "# s=\"aeioaexaaeuiou\"\n",
    "# print(find_total_possible_vowel_substring(s))\n",
    "# test3\n",
    "s=\"aaeiouxa\"\n",
    "print(find_total_possible_vowel_substring(s))"
   ]
  },
  {
   "cell_type": "code",
   "execution_count": null,
   "metadata": {},
   "outputs": [],
   "source": []
  }
 ],
 "metadata": {
  "kernelspec": {
   "display_name": "Python 3",
   "language": "python",
   "name": "python3"
  },
  "language_info": {
   "codemirror_mode": {
    "name": "ipython",
    "version": 3
   },
   "file_extension": ".py",
   "mimetype": "text/x-python",
   "name": "python",
   "nbconvert_exporter": "python",
   "pygments_lexer": "ipython3",
   "version": "3.9.6"
  },
  "orig_nbformat": 4
 },
 "nbformat": 4,
 "nbformat_minor": 2
}
