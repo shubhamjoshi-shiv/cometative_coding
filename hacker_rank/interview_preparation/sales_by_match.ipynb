{
 "cells": [
  {
   "cell_type": "code",
   "execution_count": 8,
   "metadata": {},
   "outputs": [
    {
     "name": "stdout",
     "output_type": "stream",
     "text": [
      "[0, 3, 3, 1, 0, 0, 0, 0, 0, 0, 0, 0, 0, 0, 0, 0, 0, 0, 0, 0, 0, 0, 0, 0, 0, 0, 0, 0, 0, 0, 0, 0, 0, 0, 0, 0, 0, 0, 0, 0, 0, 0, 0, 0, 0, 0, 0, 0, 0, 0, 0, 0, 0, 0, 0, 0, 0, 0, 0, 0, 0, 0, 0, 0, 0, 0, 0, 0, 0, 0, 0, 0, 0, 0, 0, 0, 0, 0, 0, 0, 0, 0, 0, 0, 0, 0, 0, 0, 0, 0, 0, 0, 0, 0, 0, 0, 0, 0, 0, 0, 0]\n",
      "[0, 0, 0, 0, 0, 0, 0, 0, 0, 0, 4, 0, 0, 0, 0, 0, 0, 0, 0, 0, 3, 0, 0, 0, 0, 0, 0, 0, 0, 0, 1, 0, 0, 0, 0, 0, 0, 0, 0, 0, 0, 0, 0, 0, 0, 0, 0, 0, 0, 0, 1, 0, 0, 0, 0, 0, 0, 0, 0, 0, 0, 0, 0, 0, 0, 0, 0, 0, 0, 0, 0, 0, 0, 0, 0, 0, 0, 0, 0, 0, 0, 0, 0, 0, 0, 0, 0, 0, 0, 0, 0, 0, 0, 0, 0, 0, 0, 0, 0, 0, 0]\n"
     ]
    }
   ],
   "source": [
    "def create_sock_map(n, ar):\n",
    "    sock_map=[0,]*(101)\n",
    "    for i in ar:\n",
    "        sock_map[i]=sock_map[i]+1\n",
    "    return sock_map\n",
    "\n",
    "# test\n",
    "sock_map=create_sock_map(7, [1,2,1,2,1,3,2])\n",
    "print(sock_map)\n",
    "sock_map=create_sock_map(9, [10, 20, 20, 10, 10, 30, 50, 10, 20])\n",
    "print(sock_map)"
   ]
  },
  {
   "cell_type": "code",
   "execution_count": 9,
   "metadata": {},
   "outputs": [
    {
     "name": "stdout",
     "output_type": "stream",
     "text": [
      "2\n",
      "3\n"
     ]
    }
   ],
   "source": [
    "def count_sock_pair(sock_map):\n",
    "    total_sock_pair=0\n",
    "    for i in sock_map:\n",
    "        sock_pair=int(i/2)\n",
    "        total_sock_pair=total_sock_pair+sock_pair\n",
    "    return total_sock_pair\n",
    "\n",
    "sock_map=[0, 3, 3, 1, 0, 0, 0, 0]\n",
    "total_sock_pair=count_sock_pair(sock_map)\n",
    "print(total_sock_pair)\n",
    "sock_map=[0, 0, 0, 0, 0, 0, 0, 0, 0, 0, 4, 0, 0, 0, 0, 0, 0, 0, 0, 0, 3, 0, 0, 0, 0, 0, 0, 0, 0, 0, 1, 0, 0, 0, 0, 0, 0, 0, 0, 0, 0, 0, 0, 0, 0, 0, 0, 0, 0, 0, 1, 0, 0, 0, 0, 0, 0, 0, 0, 0, 0, 0, 0, 0, 0, 0, 0, 0, 0, 0, 0, 0, 0, 0, 0, 0, 0, 0, 0, 0, 0, 0, 0, 0, 0, 0, 0, 0, 0, 0, 0, 0, 0, 0, 0, 0, 0, 0, 0, 0, 0]\n",
    "total_sock_pair=count_sock_pair(sock_map)\n",
    "print(total_sock_pair)"
   ]
  },
  {
   "cell_type": "code",
   "execution_count": 13,
   "metadata": {},
   "outputs": [
    {
     "name": "stdout",
     "output_type": "stream",
     "text": [
      "2\n",
      "3\n"
     ]
    }
   ],
   "source": [
    "\n",
    "def sockMerchant(n, ar):\n",
    "    sock_map=create_sock_map(n, ar)\n",
    "    total_sock_pair=count_sock_pair(sock_map)\n",
    "    return total_sock_pair\n",
    "\n",
    "print(sockMerchant(7, [1,2,1,2,1,3,2]))\n",
    "print(sockMerchant(9, [10, 20, 20, 10, 10, 30, 50, 10, 20]))"
   ]
  },
  {
   "cell_type": "code",
   "execution_count": null,
   "metadata": {},
   "outputs": [],
   "source": []
  }
 ],
 "metadata": {
  "kernelspec": {
   "display_name": "Python 3",
   "language": "python",
   "name": "python3"
  },
  "language_info": {
   "codemirror_mode": {
    "name": "ipython",
    "version": 3
   },
   "file_extension": ".py",
   "mimetype": "text/x-python",
   "name": "python",
   "nbconvert_exporter": "python",
   "pygments_lexer": "ipython3",
   "version": "3.9.6"
  },
  "orig_nbformat": 4,
  "vscode": {
   "interpreter": {
    "hash": "88d3c7f943f4b0baa604ca5402475141851a2a60685e257c208367fa8bd20c7f"
   }
  }
 },
 "nbformat": 4,
 "nbformat_minor": 2
}
