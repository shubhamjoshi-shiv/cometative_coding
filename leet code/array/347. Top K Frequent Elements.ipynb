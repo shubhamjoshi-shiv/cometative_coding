{
 "cells": [
  {
   "attachments": {},
   "cell_type": "markdown",
   "metadata": {},
   "source": [
    "bucket sort -indices of all list also represent a value\n",
    "https://www.youtube.com/watch?v=YPTqKIgVk-k"
   ]
  },
  {
   "cell_type": "code",
   "execution_count": 2,
   "metadata": {},
   "outputs": [
    {
     "name": "stdout",
     "output_type": "stream",
     "text": [
      "c=[1, 2, 3, 4, 5, 6]\n",
      "a=[1, 2, 3, [4, 5, 6]]\n"
     ]
    }
   ],
   "source": [
    "# poc\n",
    "a=[1,2,3]\n",
    "b=[4,5,6]\n",
    "c=a+b\n",
    "print(f\"c={c}\")\n",
    "a.append(b)\n",
    "print(f\"a={a}\")\n"
   ]
  },
  {
   "cell_type": "code",
   "execution_count": 17,
   "metadata": {},
   "outputs": [
    {
     "name": "stdout",
     "output_type": "stream",
     "text": [
      "{1: 4, 2: 3, 3: 3, 4: 1, 5: 1}\n"
     ]
    }
   ],
   "source": [
    "def get_num_freq(nums:list)->dict:\n",
    "    num_ferq={}\n",
    "    # store freq of numbers in dict\n",
    "    for i in nums:\n",
    "        if i in num_ferq:\n",
    "            num_ferq[i]=num_ferq[i]+1\n",
    "        else:\n",
    "            num_ferq[i]=1\n",
    "    return num_ferq\n",
    "\n",
    "nums=[1,1,1,1,2,2,2,3,3,3,4,5]\n",
    "print(get_num_freq(nums))"
   ]
  },
  {
   "cell_type": "code",
   "execution_count": 18,
   "metadata": {},
   "outputs": [
    {
     "name": "stdout",
     "output_type": "stream",
     "text": [
      "[[], [], [], [], [], [], [], [], [1], [2, 3], [], [4, 5], []]\n"
     ]
    }
   ],
   "source": [
    "def get_num_freq_ordered_list(num_freq:dict,nums)->list:\n",
    "    # [[],[numbers that have freq 1],[numbers that have freq 2]]\n",
    "    freq_list=[[]for i in range((len(nums)+1))]\n",
    "    for num,freq in num_freq.items():\n",
    "        freq_list[freq].append(num)\n",
    "    freq_list.reverse()\n",
    "\n",
    "    return freq_list\n",
    "\n",
    "nums=[1,1,1,1,2,2,2,3,3,3,4,5]\n",
    "num_freq={1: 4, 2: 3, 3: 3, 4: 1, 5: 1}\n",
    "print(get_num_freq_ordered_list(num_freq,nums))"
   ]
  },
  {
   "cell_type": "code",
   "execution_count": 19,
   "metadata": {},
   "outputs": [
    {
     "data": {
      "text/plain": [
       "[1]"
      ]
     },
     "execution_count": 19,
     "metadata": {},
     "output_type": "execute_result"
    }
   ],
   "source": [
    "def get_top_k(freq_list:list,k:int)->list:\n",
    "    top_k =[]\n",
    "    for i in freq_list:\n",
    "        if len(top_k)<k:\n",
    "            top_k=top_k+i\n",
    "        else:\n",
    "            break\n",
    "    return top_k\n",
    "\n",
    "freq_list=[[], [], [], [], [], [], [], [], [1], [2, 3], [], [4, 5], []]\n",
    "get_top_k(freq_list,1)"
   ]
  },
  {
   "cell_type": "code",
   "execution_count": 20,
   "metadata": {},
   "outputs": [
    {
     "data": {
      "text/plain": [
       "[1, 2, 3]"
      ]
     },
     "execution_count": 20,
     "metadata": {},
     "output_type": "execute_result"
    }
   ],
   "source": [
    "def topKFrequent(nums: list[int], k: int) -> list[int]:\n",
    "    num_freq=get_num_freq(nums)\n",
    "    freq_list=get_num_freq_ordered_list(num_freq,nums)\n",
    "    top_k=get_top_k(freq_list,k)\n",
    "    return top_k\n",
    "\n",
    "nums=[1,1,1,1,2,2,2,3,3,3,4,5]\n",
    "k=3\n",
    "topKFrequent(nums,k)"
   ]
  },
  {
   "cell_type": "code",
   "execution_count": null,
   "metadata": {},
   "outputs": [],
   "source": []
  }
 ],
 "metadata": {
  "kernelspec": {
   "display_name": "Python 3",
   "language": "python",
   "name": "python3"
  },
  "language_info": {
   "codemirror_mode": {
    "name": "ipython",
    "version": 3
   },
   "file_extension": ".py",
   "mimetype": "text/x-python",
   "name": "python",
   "nbconvert_exporter": "python",
   "pygments_lexer": "ipython3",
   "version": "3.11.6"
  },
  "orig_nbformat": 4
 },
 "nbformat": 4,
 "nbformat_minor": 2
}
