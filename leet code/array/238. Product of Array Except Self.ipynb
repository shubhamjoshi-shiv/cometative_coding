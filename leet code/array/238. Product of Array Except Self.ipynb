{
 "cells": [
  {
   "cell_type": "code",
   "execution_count": 1,
   "metadata": {},
   "outputs": [
    {
     "ename": "NameError",
     "evalue": "name 'nums' is not defined",
     "output_type": "error",
     "traceback": [
      "\u001b[1;31m---------------------------------------------------------------------------\u001b[0m",
      "\u001b[1;31mNameError\u001b[0m                                 Traceback (most recent call last)",
      "\u001b[1;32md:\\projects\\Shubham_projects\\cometative_coding\\leet code\\array\\238. Product of Array Except Self.ipynb Cell 1\u001b[0m line \u001b[0;36m1\n\u001b[1;32m----> <a href='vscode-notebook-cell:/d%3A/projects/Shubham_projects/cometative_coding/leet%20code/array/238.%20Product%20of%20Array%20Except%20Self.ipynb#W0sZmlsZQ%3D%3D?line=0'>1</a>\u001b[0m Input: nums \u001b[39m=\u001b[39m [\u001b[39m1\u001b[39m,\u001b[39m2\u001b[39m,\u001b[39m3\u001b[39m,\u001b[39m4\u001b[39m]\n\u001b[0;32m      <a href='vscode-notebook-cell:/d%3A/projects/Shubham_projects/cometative_coding/leet%20code/array/238.%20Product%20of%20Array%20Except%20Self.ipynb#W0sZmlsZQ%3D%3D?line=1'>2</a>\u001b[0m Output: [\u001b[39m24\u001b[39m,\u001b[39m12\u001b[39m,\u001b[39m8\u001b[39m,\u001b[39m6\u001b[39m]\n",
      "\u001b[1;31mNameError\u001b[0m: name 'nums' is not defined"
     ]
    }
   ],
   "source": [
    "Input: nums = [1,2,3,4]\n",
    "Output: [24,12,8,6]\n",
    "1,2,3,4\n",
    "1,2,6,24"
   ]
  },
  {
   "cell_type": "code",
   "execution_count": null,
   "metadata": {},
   "outputs": [],
   "source": []
  },
  {
   "cell_type": "code",
   "execution_count": null,
   "metadata": {},
   "outputs": [],
   "source": []
  }
 ],
 "metadata": {
  "kernelspec": {
   "display_name": "Python 3",
   "language": "python",
   "name": "python3"
  },
  "language_info": {
   "codemirror_mode": {
    "name": "ipython",
    "version": 3
   },
   "file_extension": ".py",
   "mimetype": "text/x-python",
   "name": "python",
   "nbconvert_exporter": "python",
   "pygments_lexer": "ipython3",
   "version": "3.11.6"
  }
 },
 "nbformat": 4,
 "nbformat_minor": 2
}
