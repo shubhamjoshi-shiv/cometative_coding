{
 "cells": [
  {
   "cell_type": "code",
   "execution_count": 2,
   "metadata": {},
   "outputs": [
    {
     "name": "stdout",
     "output_type": "stream",
     "text": [
      "[1, 1, 2, 3]\n",
      "True\n",
      "[1, 2, 3, 4]\n",
      "False\n",
      "[1, 1, 1, 2, 2, 3, 3, 3, 4, 4]\n",
      "True\n"
     ]
    }
   ],
   "source": [
    "def containsDuplicate(nums) -> bool:\n",
    "    flag = False\n",
    "    nums_len = len(nums)\n",
    "    nums.sort()\n",
    "    # print(nums)\n",
    "    for i in range(nums_len-1):\n",
    "        if nums[i] == nums[i+1]:\n",
    "            flag = True\n",
    "            break\n",
    "    return flag\n",
    "\n",
    "\n",
    "nums = [1,2,3,1]\n",
    "print(containsDuplicate(nums))\n",
    "nums = [1,2,3,4]\n",
    "print(containsDuplicate(nums))\n",
    "nums = [1,1,1,3,3,4,3,2,4,2]\n",
    "print(containsDuplicate(nums))\n",
    "# nums = [1,2,3,1]\n",
    "# containsDuplicate(nums)"
   ]
  },
  {
   "cell_type": "code",
   "execution_count": 1,
   "metadata": {},
   "outputs": [
    {
     "name": "stdout",
     "output_type": "stream",
     "text": [
      "True\n",
      "True\n",
      "True\n"
     ]
    }
   ],
   "source": [
    "def containsDuplicate(nums) -> bool:\n",
    "    flag = False\n",
    "    nums_len = len(nums)\n",
    "    for i in range(nums_len):\n",
    "        if nums[i] in nums[i+1:]:\n",
    "            flag = True\n",
    "            break\n",
    "    return flag\n",
    "\n",
    "\n",
    "nums = [1,2,3,1]\n",
    "print(containsDuplicate(nums))\n",
    "nums = [1,2,3,4]\n",
    "print(containsDuplicate(nums))\n",
    "nums = [1,1,1,3,3,4,3,2,4,2]\n",
    "print(containsDuplicate(nums))\n",
    "# nums = [1,2,3,1]\n",
    "# containsDuplicate(nums)"
   ]
  }
 ],
 "metadata": {
  "kernelspec": {
   "display_name": "Python 3",
   "language": "python",
   "name": "python3"
  },
  "language_info": {
   "codemirror_mode": {
    "name": "ipython",
    "version": 3
   },
   "file_extension": ".py",
   "mimetype": "text/x-python",
   "name": "python",
   "nbconvert_exporter": "python",
   "pygments_lexer": "ipython3",
   "version": "3.9.6"
  },
  "orig_nbformat": 4
 },
 "nbformat": 4,
 "nbformat_minor": 2
}
