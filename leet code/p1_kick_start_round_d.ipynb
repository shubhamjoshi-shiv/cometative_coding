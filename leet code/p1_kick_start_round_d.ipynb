{
 "cells": [
  {
   "cell_type": "code",
   "execution_count": 8,
   "source": [
    "for i in range(3):\r\n",
    "    for j in range(3):\r\n",
    "        print(f\"[{i}][{j}]\",end=' ,\\t')\r\n",
    "    print()\r\n"
   ],
   "outputs": [
    {
     "output_type": "stream",
     "name": "stdout",
     "text": [
      "[0][0] ,\t[0][1] ,\t[0][2] ,\t\n",
      "[1][0] ,\t[1][1] ,\t[1][2] ,\t\n",
      "[2][0] ,\t[2][1] ,\t[2][2] ,\t\n"
     ]
    }
   ],
   "metadata": {}
  },
  {
   "cell_type": "code",
   "execution_count": null,
   "source": [
    "[0][0],\t[0][1],\t[0][2],\r\n",
    "[1][0],\t[1][1],\t[1][2],\r\n",
    "[2][0],\t[2][1],\t[2][2],\r\n",
    "\r\n",
    "[0][0],\t[0][1],\t[0][2],\r\n",
    "[1][0],\t[1][2],\r\n",
    "[2][0],\t[2][1],\t[2][2],\r\n",
    "\r\n",
    "[\r\n",
    "[0][0],\t[0][1],\t[0][2],\r\n",
    "[2][0],\t[2][1],\t[2][2],\r\n",
    "[0][0], [1][0], [2][0],\r\n",
    "[0][2],[1][2],[2][2],\r\n",
    "]\r\n",
    "\r\n",
    "[\r\n",
    "[0][0],\t[2][2],\r\n",
    "[1][0],\t[1][2],\r\n",
    "[0][1], [2][1],\r\n",
    "[2][0],\t[0][2],\r\n",
    "]\r\n"
   ],
   "outputs": [],
   "metadata": {}
  },
  {
   "cell_type": "code",
   "execution_count": 45,
   "source": [
    "num_list=[  [3,4,11],\r\n",
    "            [10,0,9],\r\n",
    "            [-1,6,7]]\r\n",
    "# check only\r\n",
    "check_list=[\r\n",
    "[num_list[0][0], num_list[0][1], num_list[0][2], ],\r\n",
    "[num_list[2][0], num_list[2][1], num_list[2][2],],\r\n",
    "[num_list[0][0], num_list[1][0], num_list[2][0], ],\r\n",
    "[num_list[0][2], num_list[1][2], num_list[2][2], ]]\r\n",
    "check_list\r\n",
    "\r\n",
    "\r\n",
    "may_be_list =[\r\n",
    "    [num_list[0][0],num_list[2][2]],\r\n",
    "    [num_list[1][0],num_list[1][2]],\r\n",
    "    [num_list[0][1],num_list[2][1]],\r\n",
    "    [num_list[2][0],num_list[0][2]],\r\n",
    "]\r\n",
    "may_be_list\r\n",
    "\r\n",
    "print(are_in_ap(num_list))\r\n",
    "print(may_be_ap(num_list))\r\n"
   ],
   "outputs": [
    {
     "output_type": "stream",
     "name": "stdout",
     "text": [
      "1\n",
      "[5.0, 9.5, 5.0, 5.0]\n",
      "3\n"
     ]
    }
   ],
   "metadata": {}
  },
  {
   "cell_type": "code",
   "execution_count": 36,
   "source": [
    "def are_in_ap(num_list):\r\n",
    "    check_list = [\r\n",
    "        [num_list[0][0], num_list[0][1], num_list[0][2], ],\r\n",
    "        [num_list[2][0], num_list[2][1], num_list[2][2], ],\r\n",
    "        [num_list[0][0], num_list[1][0], num_list[2][0], ],\r\n",
    "        [num_list[0][2], num_list[1][2], num_list[2][2], ]]\r\n",
    "    check_list\r\n",
    "\r\n",
    "    num_ap=0\r\n",
    "    for i in check_list:\r\n",
    "        if i[2]-i[1]==i[1]-i[0]:\r\n",
    "            num_ap=num_ap+1\r\n",
    "    return num_ap\r\n"
   ],
   "outputs": [],
   "metadata": {}
  },
  {
   "cell_type": "code",
   "execution_count": 44,
   "source": [
    "def may_be_ap(num_list):\r\n",
    "    may_be_list = [\r\n",
    "        [num_list[0][0], num_list[2][2]],\r\n",
    "        [num_list[1][0], num_list[1][2]],\r\n",
    "        [num_list[0][1], num_list[2][1]],\r\n",
    "        [num_list[2][0], num_list[0][2]],\r\n",
    "    ]\r\n",
    "    list_2d=[]\r\n",
    "    for element in may_be_list:\r\n",
    "        list_2d.append(((element[1]-element[0])/2)+(element[0]))\r\n",
    "    print(list_2d)\r\n",
    "    ap=max([list_2d.count(i) for i in list_2d])\r\n",
    "    return ap\r\n"
   ],
   "outputs": [],
   "metadata": {}
  },
  {
   "cell_type": "code",
   "execution_count": 38,
   "source": [
    "my_list=[1,1,1,2,3,4]\r\n",
    "max([my_list.count(i) for i in my_list])"
   ],
   "outputs": [
    {
     "output_type": "execute_result",
     "data": {
      "text/plain": [
       "3"
      ]
     },
     "metadata": {},
     "execution_count": 38
    }
   ],
   "metadata": {}
  },
  {
   "cell_type": "code",
   "execution_count": 39,
   "source": [
    "\r\n",
    "def take_array():\r\n",
    "    num_list=[[0,0,0],[0,0,0],[0,0,0]]\r\n",
    "\r\n",
    "    (num_list[0][0],\tnum_list[0][1],\tnum_list[0][2])=[int(x) for x in input().split()]\r\n",
    "    (num_list[1][0],\tnum_list[1][2]) = [int(x) for x in input().split()]\r\n",
    "    (num_list[2][0],\tnum_list[2][1],\tnum_list[2][2]) = [int(x)\r\n",
    "                                                        for x in input().split()]\r\n",
    "\r\n",
    "    return num_list\r\n"
   ],
   "outputs": [],
   "metadata": {}
  },
  {
   "cell_type": "code",
   "execution_count": 27,
   "source": [
    "test = int(input())\r\n",
    "for i in range(test):\r\n",
    "    num_list = take_array()\r\n",
    "    ap_present = are_in_ap(num_list)\r\n",
    "    ap_posible = may_be_ap(num_list)\r\n",
    "    total_ap = ap_present + ap_posible\r\n",
    "    print(total_ap)\r\n"
   ],
   "outputs": [
    {
     "output_type": "error",
     "ename": "KeyboardInterrupt",
     "evalue": "Interrupted by user",
     "traceback": [
      "\u001b[1;31m---------------------------------------------------------------------------\u001b[0m",
      "\u001b[1;31mKeyboardInterrupt\u001b[0m                         Traceback (most recent call last)",
      "\u001b[1;32mC:\\Users\\ADMINI~1\\AppData\\Local\\Temp/ipykernel_4268/3572899218.py\u001b[0m in \u001b[0;36m<module>\u001b[1;34m\u001b[0m\n\u001b[1;32m----> 1\u001b[1;33m \u001b[0mtest\u001b[0m \u001b[1;33m=\u001b[0m \u001b[0mint\u001b[0m\u001b[1;33m(\u001b[0m\u001b[0minput\u001b[0m\u001b[1;33m(\u001b[0m\u001b[1;33m)\u001b[0m\u001b[1;33m)\u001b[0m\u001b[1;33m\u001b[0m\u001b[1;33m\u001b[0m\u001b[0m\n\u001b[0m\u001b[0;32m      2\u001b[0m \u001b[1;32mfor\u001b[0m \u001b[0mi\u001b[0m \u001b[1;32min\u001b[0m \u001b[0mrange\u001b[0m\u001b[1;33m(\u001b[0m\u001b[0mtest\u001b[0m\u001b[1;33m)\u001b[0m\u001b[1;33m:\u001b[0m\u001b[1;33m\u001b[0m\u001b[1;33m\u001b[0m\u001b[0m\n\u001b[0;32m      3\u001b[0m     \u001b[0mnum_list\u001b[0m \u001b[1;33m=\u001b[0m \u001b[0mtake_array\u001b[0m\u001b[1;33m(\u001b[0m\u001b[1;33m)\u001b[0m\u001b[1;33m\u001b[0m\u001b[1;33m\u001b[0m\u001b[0m\n\u001b[0;32m      4\u001b[0m     \u001b[0map_present\u001b[0m \u001b[1;33m=\u001b[0m \u001b[0mare_in_ap\u001b[0m\u001b[1;33m(\u001b[0m\u001b[0mnum_list\u001b[0m\u001b[1;33m)\u001b[0m\u001b[1;33m\u001b[0m\u001b[1;33m\u001b[0m\u001b[0m\n\u001b[0;32m      5\u001b[0m     \u001b[0map_posible\u001b[0m \u001b[1;33m=\u001b[0m \u001b[0mmay_be_ap\u001b[0m\u001b[1;33m(\u001b[0m\u001b[0mnum_list\u001b[0m\u001b[1;33m)\u001b[0m\u001b[1;33m\u001b[0m\u001b[1;33m\u001b[0m\u001b[0m\n",
      "\u001b[1;32m~\\AppData\\Roaming\\Python\\Python39\\site-packages\\ipykernel\\kernelbase.py\u001b[0m in \u001b[0;36mraw_input\u001b[1;34m(self, prompt)\u001b[0m\n\u001b[0;32m    979\u001b[0m                 \u001b[1;34m\"raw_input was called, but this frontend does not support input requests.\"\u001b[0m\u001b[1;33m\u001b[0m\u001b[1;33m\u001b[0m\u001b[0m\n\u001b[0;32m    980\u001b[0m             )\n\u001b[1;32m--> 981\u001b[1;33m         return self._input_request(\n\u001b[0m\u001b[0;32m    982\u001b[0m             \u001b[0mstr\u001b[0m\u001b[1;33m(\u001b[0m\u001b[0mprompt\u001b[0m\u001b[1;33m)\u001b[0m\u001b[1;33m,\u001b[0m\u001b[1;33m\u001b[0m\u001b[1;33m\u001b[0m\u001b[0m\n\u001b[0;32m    983\u001b[0m             \u001b[0mself\u001b[0m\u001b[1;33m.\u001b[0m\u001b[0m_parent_ident\u001b[0m\u001b[1;33m[\u001b[0m\u001b[1;34m\"shell\"\u001b[0m\u001b[1;33m]\u001b[0m\u001b[1;33m,\u001b[0m\u001b[1;33m\u001b[0m\u001b[1;33m\u001b[0m\u001b[0m\n",
      "\u001b[1;32m~\\AppData\\Roaming\\Python\\Python39\\site-packages\\ipykernel\\kernelbase.py\u001b[0m in \u001b[0;36m_input_request\u001b[1;34m(self, prompt, ident, parent, password)\u001b[0m\n\u001b[0;32m   1024\u001b[0m             \u001b[1;32mexcept\u001b[0m \u001b[0mKeyboardInterrupt\u001b[0m\u001b[1;33m:\u001b[0m\u001b[1;33m\u001b[0m\u001b[1;33m\u001b[0m\u001b[0m\n\u001b[0;32m   1025\u001b[0m                 \u001b[1;31m# re-raise KeyboardInterrupt, to truncate traceback\u001b[0m\u001b[1;33m\u001b[0m\u001b[1;33m\u001b[0m\u001b[1;33m\u001b[0m\u001b[0m\n\u001b[1;32m-> 1026\u001b[1;33m                 \u001b[1;32mraise\u001b[0m \u001b[0mKeyboardInterrupt\u001b[0m\u001b[1;33m(\u001b[0m\u001b[1;34m\"Interrupted by user\"\u001b[0m\u001b[1;33m)\u001b[0m \u001b[1;32mfrom\u001b[0m \u001b[1;32mNone\u001b[0m\u001b[1;33m\u001b[0m\u001b[1;33m\u001b[0m\u001b[0m\n\u001b[0m\u001b[0;32m   1027\u001b[0m             \u001b[1;32mexcept\u001b[0m \u001b[0mException\u001b[0m \u001b[1;32mas\u001b[0m \u001b[0me\u001b[0m\u001b[1;33m:\u001b[0m\u001b[1;33m\u001b[0m\u001b[1;33m\u001b[0m\u001b[0m\n\u001b[0;32m   1028\u001b[0m                 \u001b[0mself\u001b[0m\u001b[1;33m.\u001b[0m\u001b[0mlog\u001b[0m\u001b[1;33m.\u001b[0m\u001b[0mwarning\u001b[0m\u001b[1;33m(\u001b[0m\u001b[1;34m\"Invalid Message:\"\u001b[0m\u001b[1;33m,\u001b[0m \u001b[0mexc_info\u001b[0m\u001b[1;33m=\u001b[0m\u001b[1;32mTrue\u001b[0m\u001b[1;33m)\u001b[0m\u001b[1;33m\u001b[0m\u001b[1;33m\u001b[0m\u001b[0m\n",
      "\u001b[1;31mKeyboardInterrupt\u001b[0m: Interrupted by user"
     ]
    }
   ],
   "metadata": {}
  },
  {
   "cell_type": "code",
   "execution_count": 32,
   "source": [
    "input(\"\")"
   ],
   "outputs": [
    {
     "output_type": "execute_result",
     "data": {
      "text/plain": [
       "''"
      ]
     },
     "metadata": {},
     "execution_count": 32
    }
   ],
   "metadata": {}
  },
  {
   "cell_type": "code",
   "execution_count": null,
   "source": [],
   "outputs": [],
   "metadata": {}
  },
  {
   "cell_type": "code",
   "execution_count": 46,
   "source": [
    "import fileinput\r\n",
    "fileinput.input(files= \"input.txt\")"
   ],
   "outputs": [
    {
     "output_type": "execute_result",
     "data": {
      "text/plain": [
       "<fileinput.FileInput at 0x1e23e051070>"
      ]
     },
     "metadata": {},
     "execution_count": 46
    }
   ],
   "metadata": {}
  },
  {
   "cell_type": "code",
   "execution_count": 50,
   "source": [
    "input().split()"
   ],
   "outputs": [
    {
     "output_type": "execute_result",
     "data": {
      "text/plain": [
       "[]"
      ]
     },
     "metadata": {},
     "execution_count": 50
    }
   ],
   "metadata": {}
  },
  {
   "cell_type": "code",
   "execution_count": 53,
   "source": [
    "import numpy as np\r\n",
    "a=np.zeros(3)"
   ],
   "outputs": [],
   "metadata": {}
  },
  {
   "cell_type": "code",
   "execution_count": 54,
   "source": [
    "a[1]"
   ],
   "outputs": [
    {
     "output_type": "execute_result",
     "data": {
      "text/plain": [
       "0.0"
      ]
     },
     "metadata": {},
     "execution_count": 54
    }
   ],
   "metadata": {}
  },
  {
   "cell_type": "code",
   "execution_count": 55,
   "source": [
    "a[1]=2"
   ],
   "outputs": [],
   "metadata": {}
  },
  {
   "cell_type": "code",
   "execution_count": 56,
   "source": [
    "a[1]"
   ],
   "outputs": [
    {
     "output_type": "execute_result",
     "data": {
      "text/plain": [
       "2.0"
      ]
     },
     "metadata": {},
     "execution_count": 56
    }
   ],
   "metadata": {}
  },
  {
   "cell_type": "code",
   "execution_count": 57,
   "source": [
    "b = np.zeros(10**15,dtype=int)"
   ],
   "outputs": [
    {
     "output_type": "error",
     "ename": "MemoryError",
     "evalue": "Unable to allocate 7.11 PiB for an array with shape (1000000000000000,) and data type float64",
     "traceback": [
      "\u001b[1;31m---------------------------------------------------------------------------\u001b[0m",
      "\u001b[1;31mMemoryError\u001b[0m                               Traceback (most recent call last)",
      "\u001b[1;32mC:\\Users\\ADMINI~1\\AppData\\Local\\Temp/ipykernel_4268/4225949769.py\u001b[0m in \u001b[0;36m<module>\u001b[1;34m\u001b[0m\n\u001b[1;32m----> 1\u001b[1;33m \u001b[0mb\u001b[0m \u001b[1;33m=\u001b[0m \u001b[0mnp\u001b[0m\u001b[1;33m.\u001b[0m\u001b[0mzeros\u001b[0m\u001b[1;33m(\u001b[0m\u001b[1;36m10\u001b[0m\u001b[1;33m**\u001b[0m\u001b[1;36m15\u001b[0m\u001b[1;33m)\u001b[0m\u001b[1;33m\u001b[0m\u001b[1;33m\u001b[0m\u001b[0m\n\u001b[0m",
      "\u001b[1;31mMemoryError\u001b[0m: Unable to allocate 7.11 PiB for an array with shape (1000000000000000,) and data type float64"
     ]
    }
   ],
   "metadata": {}
  },
  {
   "cell_type": "code",
   "execution_count": null,
   "source": [],
   "outputs": [],
   "metadata": {}
  }
 ],
 "metadata": {
  "orig_nbformat": 4,
  "language_info": {
   "name": "python"
  }
 },
 "nbformat": 4,
 "nbformat_minor": 2
}