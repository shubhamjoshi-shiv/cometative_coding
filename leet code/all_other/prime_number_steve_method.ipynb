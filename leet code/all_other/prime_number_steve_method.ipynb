{
 "metadata": {
  "language_info": {
   "codemirror_mode": {
    "name": "ipython",
    "version": 3
   },
   "file_extension": ".py",
   "mimetype": "text/x-python",
   "name": "python",
   "nbconvert_exporter": "python",
   "pygments_lexer": "ipython3",
   "version": "3.8.3"
  },
  "orig_nbformat": 2,
  "kernelspec": {
   "name": "python3",
   "display_name": "Python 3.8.3 32-bit"
  },
  "interpreter": {
   "hash": "c617fa10d1ba9d6a36573c3c4f7496e3bb2fbcdd4aeff3a055aadb58d26c8355"
  }
 },
 "nbformat": 4,
 "nbformat_minor": 2,
 "cells": [
  {
   "cell_type": "code",
   "execution_count": 11,
   "metadata": {},
   "outputs": [],
   "source": [
    " "
   ]
  },
  {
   "cell_type": "code",
   "execution_count": 35,
   "metadata": {
    "tags": []
   },
   "outputs": [
    {
     "output_type": "stream",
     "name": "stdout",
     "text": [
      "Total prime numbers in range: 1000001\nTime required: 0.5040290355682373\n"
     ]
    }
   ],
   "source": [
    "# Python Program to find prime numbers in a range\n",
    "import time\n",
    "def SieveOfEratosthenes(n):\n",
    "\t\n",
    "\t# Create a boolean array \"prime[0..n]\" and\n",
    "\t# initialize all entries it as true. A value\n",
    "\t# in prime[i] will finally be false if i is\n",
    "\t# Not a prime, else true.\n",
    "\tprime = [True for i in range(n+1)]\n",
    "\t\n",
    "\tp = 2\n",
    "\twhile(p * p <= n):\n",
    "\t\t\n",
    "\t\t# If prime[p] is not changed, then it is\n",
    "\t# a prime\n",
    "\t\tif (prime[p] == True):\n",
    "\t\t\t\n",
    "\t\t\t# Update all multiples of p\n",
    "\t\t\tfor i in range(p * p, n + 1, p):\n",
    "\t\t\t\tprime[i] = False\n",
    "\t\tp += 1\n",
    "\t# print(prime)\n",
    "\t# prime_number=list(range(0,1000001))\n",
    "\t# prime_number=list(itertools.compress(prime_number,prime))\n",
    "\n",
    "\t\n",
    "\treturn prime\n",
    "\n",
    "# Driver function\n",
    "t0 = time.time()\n",
    "prime = SieveOfEratosthenes(1000000)\n",
    "c=len(prime_number)\n",
    "print(\"Total prime numbers in range:\", c)\n",
    "\n",
    "t1 = time.time()\n",
    "print(\"Time required:\", t1 - t0)\n"
   ]
  },
  {
   "cell_type": "code",
   "execution_count": 33,
   "metadata": {},
   "outputs": [],
   "source": [
    "# prime_number=list(itertools.compress([1,2],[True,False]))\n",
    "# prime_number"
   ]
  },
  {
   "cell_type": "code",
   "execution_count": null,
   "metadata": {},
   "outputs": [],
   "source": [
    "def SieveOfEratosthenes(n):\n",
    "\t\n",
    "\t# Create a boolean array \"prime[0..n]\" and\n",
    "\t# initialize all entries it as true. A value\n",
    "\t# in prime[i] will finally be false if i is\n",
    "\t# Not a prime, else true.\n",
    "\tprime = [True for i in range(n+1)]\n",
    "\t\n",
    "\tp = 2\n",
    "\twhile(p * p <= n):\n",
    "\t\t\n",
    "\t\t# If prime[p] is not changed, then it is\n",
    "\t# a prime\n",
    "\t\tif (prime[p] == True):\n",
    "\t\t\t\n",
    "\t\t\t# Update all multiples of p\n",
    "\t\t\tfor i in range(p * p, n + 1, p):\n",
    "\t\t\t\tprime[i] = False\n",
    "\t\tp += 1\n",
    "\t# print(prime)\n",
    "\t\n",
    "\treturn prime\n"
   ]
  },
  {
   "cell_type": "code",
   "execution_count": 79,
   "metadata": {},
   "outputs": [],
   "source": [
    "def solve(a,b):\n",
    "    b+=1\n",
    "    global prime\n",
    "    global prime_number\n",
    "\n",
    "    p_n=list(itertools.compress(prime_number[a:b],prime[a:b]))\n",
    "    if p_n==[]:\n",
    "        print(-1)\n",
    "    else:\n",
    "        print(p_n[-1]-p_n[0])"
   ]
  },
  {
   "cell_type": "code",
   "execution_count": 86,
   "metadata": {},
   "outputs": [],
   "source": [
    "number_of_prime=1000000\n",
    "prime = SieveOfEratosthenes(number_of_prime)\n",
    "prime_number=list(range(0,number_of_prime + 1))\n",
    "\n"
   ]
  },
  {
   "cell_type": "code",
   "execution_count": 88,
   "metadata": {},
   "outputs": [
    {
     "output_type": "stream",
     "name": "stdout",
     "text": [
      "0\n",
      "5\n"
     ]
    }
   ],
   "source": [
    "test_case=int(input())\n",
    "for i in range(test_case):\n",
    "    l,r=input().split()\n",
    "    l=int(l)\n",
    "    r=int(r)\n",
    "    solve(l,r)"
   ]
  },
  {
   "source": [
    "5       \n",
    "5 5     0   \n",
    "2 7     5   \n",
    "8 10    -1  \n",
    "10 20   8   \n",
    "4 5     0   \n"
   ],
   "cell_type": "markdown",
   "metadata": {}
  },
  {
   "cell_type": "code",
   "execution_count": 77,
   "metadata": {},
   "outputs": [
    {
     "output_type": "stream",
     "name": "stdout",
     "text": [
      "[5]\n5 - 5\n5\n[5]\n[True]\n"
     ]
    }
   ],
   "source": [
    "number_of_prime=1000000\n",
    "prime = SieveOfEratosthenes(number_of_prime)\n",
    "prime_number=list(range(0,number_of_prime + 1))\n",
    "a=5\n",
    "b=5\n",
    "b+=1\n",
    "p_n=list(itertools.compress(prime_number[a:b],prime[a:b]))\n",
    "print(p_n)\n",
    "print(p_n[0],\"-\",p_n[-1])\n",
    "print(p_n[-1])\n",
    "print(prime_number[a:b])\n",
    "print(prime[a:b])\n",
    "# l=[0,1]\n",
    "# l[0:2]"
   ]
  },
  {
   "cell_type": "code",
   "execution_count": 19,
   "metadata": {},
   "outputs": [
    {
     "output_type": "stream",
     "name": "stdout",
     "text": [
      "\n1\t0\n3\t0\n5\t0\n7\t0\n9\t0\n11\t0\n13\t0\n15\t0\n17\t0\n19\t0\n21\t0\n23\t0\n25\t0\n27\t0\n29\t0\n31\t0\n33\t0\n35\t0\n37\t0\n39\t0\n41\t0\n43\t0\n45\t0\n47\t0\n49\t\n1\t0\t0\n0\t5\t0\n7\t0\t0\n0\t11\t0\n13\t0\t0\n0\t17\t0\n19\t0\t0\n0\t23\t0\n25\t0\t0\n0\t29\t0\n31\t0\t0\n0\t35\t0\n37\t0\t0\n0\t41\t0\n43\t0\t0\n0\t47\t0\n49\t\n1\t0\t0\t0\n5\t0\t7\t0\n0\t0\t11\t0\n13\t0\t0\t0\n17\t0\t19\t0\n0\t0\t23\t0\n25\t0\t0\t0\n29\t0\t31\t0\n0\t0\t35\t0\n37\t0\t0\t0\n41\t0\t43\t0\n0\t0\t47\t0\n49\t\n1\t0\t0\t0\t0\n0\t7\t0\t0\t0\n11\t0\t13\t0\t0\n0\t17\t0\t19\t0\n0\t0\t23\t0\t0\n0\t0\t0\t29\t0\n31\t0\t0\t0\t0\n0\t37\t0\t0\t0\n41\t0\t43\t0\t0\n0\t47\t0\t49\t\n1\t0\t0\t0\t0\t0\n7\t0\t0\t0\t11\t0\n13\t0\t0\t0\t17\t0\n19\t0\t0\t0\t23\t0\n0\t0\t0\t0\t29\t0\n31\t0\t0\t0\t0\t0\n37\t0\t0\t0\t41\t0\n43\t0\t0\t0\t47\t0\n49\t\n1\t0\t0\t0\t0\t0\t0\n0\t0\t0\t11\t0\t13\t0\n0\t0\t17\t0\t19\t0\t0\n0\t23\t0\t0\t0\t0\t0\n29\t0\t31\t0\t0\t0\t0\n0\t37\t0\t0\t0\t41\t0\n43\t0\t0\t0\t47\t0\t0\n"
     ]
    }
   ],
   "source": [
    "l=[i for i in range(1,49+1)]\n",
    "for j in range(2,7+1):\n",
    "    print()\n",
    "    for i in range(49):\n",
    "        if (i+1)%j==0:\n",
    "            l[i]=00\n",
    "            print(l[i])\n",
    "        else:\n",
    "            print(l[i],end=\"\\t\")"
   ]
  },
  {
   "cell_type": "code",
   "execution_count": null,
   "metadata": {},
   "outputs": [],
   "source": []
  }
 ]
}