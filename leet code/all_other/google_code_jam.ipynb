{
 "metadata": {
  "language_info": {
   "codemirror_mode": {
    "name": "ipython",
    "version": 3
   },
   "file_extension": ".py",
   "mimetype": "text/x-python",
   "name": "python",
   "nbconvert_exporter": "python",
   "pygments_lexer": "ipython3",
   "version": "3.8.3-final"
  },
  "orig_nbformat": 2,
  "kernelspec": {
   "name": "python3",
   "display_name": "Python 3.8.3 32-bit",
   "metadata": {
    "interpreter": {
     "hash": "c617fa10d1ba9d6a36573c3c4f7496e3bb2fbcdd4aeff3a055aadb58d26c8355"
    }
   }
  }
 },
 "nbformat": 4,
 "nbformat_minor": 2,
 "cells": [
  {
   "cell_type": "code",
   "execution_count": null,
   "metadata": {},
   "outputs": [],
   "source": [
    "4\n",
    "2 3 CJ?CC?\n",
    "4 2 CJCJ\n",
    "1 3 C?J\n",
    "2 5 ??J???\n",
    "\n",
    "Case #1: 5\n",
    "Case #2: 10\n",
    "Case #3: 1\n",
    "Case #4: 0\n"
   ]
  },
  {
   "cell_type": "code",
   "execution_count": 64,
   "metadata": {},
   "outputs": [
    {
     "output_type": "execute_result",
     "data": {
      "text/plain": [
       "[1, 2, 3, 4]"
      ]
     },
     "metadata": {},
     "execution_count": 64
    }
   ],
   "source": [
    "# #rough\n",
    "# l=[1,2,4,3,2]\n",
    "# l.index(min(l))\n",
    "# l2= l[2:4]\n",
    "# l2.sort()\n",
    "# l[2:4]=l2\n",
    "# print(l)\n",
    "\n",
    "l=input().split()\n",
    "l=[int(i) for i in l]\n",
    "l"
   ]
  },
  {
   "cell_type": "code",
   "execution_count": 66,
   "metadata": {},
   "outputs": [],
   "source": [
    "def reverse(l_to_reverse):\n",
    "    l_to_reverse.sort()\n",
    "    # print(l_to_reverse)\n",
    "    return l_to_reverse\n"
   ]
  },
  {
   "cell_type": "code",
   "execution_count": 67,
   "metadata": {},
   "outputs": [],
   "source": [
    "def get_cost(l):\n",
    "    cost=0\n",
    "    for i_nitial_pos in range(len(l)):\n",
    "        # print(\"i_nitial_pos-----\",i_nitial_pos)\n",
    "        j_min_element_pos=(l.index(min(l[i_nitial_pos:])))\n",
    "        # print(\"j_min_element_pos---\",j_min_element_pos)\n",
    "        j_min_element_pos+=1\n",
    "        cost+=len(l[i_nitial_pos:j_min_element_pos])\n",
    "        # print(cost)\n",
    "        l2=reverse(l[i_nitial_pos:j_min_element_pos])\n",
    "        l[i_nitial_pos:j_min_element_pos]=l2\n",
    "    return cost\n",
    "\n"
   ]
  },
  {
   "cell_type": "code",
   "execution_count": 70,
   "metadata": {},
   "outputs": [
    {
     "output_type": "stream",
     "name": "stdout",
     "text": [
      "Case # :  0\n"
     ]
    }
   ],
   "source": [
    "# 3\n",
    "# 4\n",
    "l=[4, 2, 1, 3]\n",
    "# 2\n",
    "l=[1]\n",
    "# 7\n",
    "# l=[7, 6, 5, 4, 3, 2, 1]\n",
    "\n",
    "# Case #1: 6\n",
    "# Case #2: 1\n",
    "# Case #3: 12\n",
    "\n",
    "print(\"Case #\",\": \",get_cost(l)-1)"
   ]
  },
  {
   "cell_type": "code",
   "execution_count": 69,
   "metadata": {},
   "outputs": [
    {
     "output_type": "stream",
     "name": "stdout",
     "text": [
      "Case #1: 6\n",
      "Case #2: 1\n",
      "Case #3: 12\n"
     ]
    }
   ],
   "source": [
    "t_test_case=int(input())\n",
    "for i in range(t_test_case):\n",
    "    n=int(input())\n",
    "    l=input().split()\n",
    "    l=[int(i) for i in l]\n",
    "\n",
    "    print(\"Case #\",i+1,\": \",get_cost(l)-1,sep=\"\")\n"
   ]
  },
  {
   "cell_type": "code",
   "execution_count": 71,
   "metadata": {},
   "outputs": [
    {
     "output_type": "execute_result",
     "data": {
      "text/plain": [
       "['C', 'J', '?', 'C', 'C', '?']"
      ]
     },
     "metadata": {},
     "execution_count": 71
    }
   ],
   "source": [
    "i=\"CJ?CC?\"\n",
    "l=list(i)\n",
    "l\n",
    "# ????????\n",
    "is_all_q= False\n",
    "for element in l:\n",
    "    if  `\n",
    "\n",
    "for pos in range(len(l)):\n",
    "     "
   ]
  },
  {
   "cell_type": "code",
   "execution_count": 93,
   "metadata": {},
   "outputs": [
    {
     "output_type": "execute_result",
     "data": {
      "text/plain": [
       "['d']"
      ]
     },
     "metadata": {},
     "execution_count": 93
    }
   ],
   "source": [
    "l=[\"a\",\"b\",\"c\"]\n",
    "l2=[\"a\",\"b\",\"c\",\"d\"]\n",
    "[l2.remove(i) for i in l ]\n",
    "l2\n"
   ]
  },
  {
   "cell_type": "code",
   "execution_count": 104,
   "metadata": {},
   "outputs": [
    {
     "output_type": "stream",
     "name": "stdout",
     "text": [
      "l2--- []\nl2--- ['a']\nl2--- ['a', 'b']\nl2--- ['a', 'b', 'c']\nl2--- ['a', 'b', 'c', 'e']\nl2--- ['a', 'b', 'e']\nl2--- ['a', 'b', 'e', 'c']\nl2--- ['a', 'c']\nl2--- ['a', 'c', 'b']\nl2--- ['a', 'c', 'b', 'e']\nl2--- ['a', 'c', 'e']\nl2--- ['a', 'c', 'e', 'b']\nl2--- ['a', 'e']\nl2--- ['a', 'e', 'b']\nl2--- ['a', 'e', 'b', 'c']\nl2--- ['a', 'e', 'c']\nl2--- ['a', 'e', 'c', 'b']\nl2--- ['b']\nl2--- ['b', 'a']\nl2--- ['b', 'a', 'c']\nl2--- ['b', 'a', 'c', 'e']\nl2--- ['b', 'a', 'e']\nl2--- ['b', 'a', 'e', 'c']\nl2--- ['b', 'c']\nl2--- ['b', 'c', 'a']\nl2--- ['b', 'c', 'a', 'e']\nl2--- ['b', 'c', 'e']\nl2--- ['b', 'c', 'e', 'a']\nl2--- ['b', 'e']\nl2--- ['b', 'e', 'a']\nl2--- ['b', 'e', 'a', 'c']\nl2--- ['b', 'e', 'c']\nl2--- ['b', 'e', 'c', 'a']\nl2--- ['c']\nl2--- ['c', 'a']\nl2--- ['c', 'a', 'b']\nl2--- ['c', 'a', 'b', 'e']\nl2--- ['c', 'a', 'e']\nl2--- ['c', 'a', 'e', 'b']\nl2--- ['c', 'b']\nl2--- ['c', 'b', 'a']\nl2--- ['c', 'b', 'a', 'e']\nl2--- ['c', 'b', 'e']\nl2--- ['c', 'b', 'e', 'a']\nl2--- ['c', 'e']\nl2--- ['c', 'e', 'a']\nl2--- ['c', 'e', 'a', 'b']\nl2--- ['c', 'e', 'b']\nl2--- ['c', 'e', 'b', 'a']\nl2--- ['e']\nl2--- ['e', 'a']\nl2--- ['e', 'a', 'b']\nl2--- ['e', 'a', 'b', 'c']\nl2--- ['e', 'a', 'c']\nl2--- ['e', 'a', 'c', 'b']\nl2--- ['e', 'b']\nl2--- ['e', 'b', 'a']\nl2--- ['e', 'b', 'a', 'c']\nl2--- ['e', 'b', 'c']\nl2--- ['e', 'b', 'c', 'a']\nl2--- ['e', 'c']\nl2--- ['e', 'c', 'a']\nl2--- ['e', 'c', 'a', 'b']\nl2--- ['e', 'c', 'b']\nl2--- ['e', 'c', 'b', 'a']\n"
     ]
    }
   ],
   "source": [
    "def permutation(l1,l2=[]):\n",
    "\n",
    "    print(\"l2---\",l2)\n",
    "    # print(\"l1++\",l1)\n",
    "    for i in l1:\n",
    "        l3=list(l1)\n",
    "        # print(i)\n",
    "        l3.remove(i)\n",
    "        l4=list(l2)\n",
    "        l4.append(i)\n",
    "        permutation(l3,l4)\n",
    "\n",
    "l_orignal=[\"a\",\"b\",\"c\",\"e\"]\n",
    "permutation(l_orignal)\n"
   ]
  },
  {
   "cell_type": "code",
   "execution_count": null,
   "metadata": {},
   "outputs": [],
   "source": []
  },
  {
   "cell_type": "code",
   "execution_count": null,
   "metadata": {},
   "outputs": [],
   "source": []
  }
 ]
}