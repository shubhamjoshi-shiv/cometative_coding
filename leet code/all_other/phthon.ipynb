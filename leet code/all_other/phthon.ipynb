{
 "cells": [
  {
   "cell_type": "code",
   "execution_count": 14,
   "metadata": {},
   "outputs": [],
   "source": [
    "class Solution:\n",
    "    def numPairsDivisibleBy60(self, time) -> int:\n",
    "        num_l = [0]*60\n",
    "        for i in time:\n",
    "            m = i % 60\n",
    "            num_l[m] = num_l[m]+1\n",
    "        total = 0\n",
    "\n",
    "        if num_l[0] > 1:\n",
    "            total = total+(num_l[0]*(num_l[0]-1))/2\n",
    "\n",
    "        if num_l[30] > 1:\n",
    "            total = total+(num_l[30]*(num_l[30]-1))/2\n",
    "\n",
    "        for i in range(1, 30):\n",
    "            if num_l[i] > 0 and num_l[60-i] > 0:\n",
    "                total = total+(num_l[i]*num_l[60-i])\n",
    "\n",
    "        return int(total)\n"
   ]
  },
  {
   "cell_type": "code",
   "execution_count": 16,
   "metadata": {},
   "outputs": [
    {
     "name": "stdout",
     "output_type": "stream",
     "text": [
      "3.0\n"
     ]
    }
   ],
   "source": [
    "l=[30, 20, 150, 100, 40]\n",
    "ans=Solution.numPairsDivisibleBy60(0,l)\n",
    "print(ans)"
   ]
  },
  {
   "cell_type": "code",
   "execution_count": 22,
   "metadata": {},
   "outputs": [
    {
     "name": "stdout",
     "output_type": "stream",
     "text": [
      "-1\n"
     ]
    }
   ],
   "source": [
    "l=[0,0,0,0,0,0,0,0]\n",
    "n=1\n",
    "if n in l:\n",
    "    print(l.index(1))\n",
    "else:\n",
    "    print(-1)"
   ]
  },
  {
   "cell_type": "code",
   "execution_count": null,
   "metadata": {},
   "outputs": [],
   "source": []
  }
 ],
 "metadata": {
  "interpreter": {
   "hash": "40b117701d89d157f47ae14bbdd99ac88deed71b37402bcc6127ca13f2449332"
  },
  "kernelspec": {
   "display_name": "Python 3.9.6 64-bit",
   "language": "python",
   "name": "python3"
  },
  "language_info": {
   "codemirror_mode": {
    "name": "ipython",
    "version": 3
   },
   "file_extension": ".py",
   "mimetype": "text/x-python",
   "name": "python",
   "nbconvert_exporter": "python",
   "pygments_lexer": "ipython3",
   "version": "3.9.6"
  },
  "orig_nbformat": 4
 },
 "nbformat": 4,
 "nbformat_minor": 2
}
