{
 "cells": [
  {
   "cell_type": "code",
   "execution_count": 14,
   "metadata": {},
   "outputs": [],
   "source": [
    "def subt(n,a,b):\n",
    "    for i in range(n):\n",
    "        a[i]=a[i]-b[i]\n",
    "        print(a[i])\n",
    "    print(a)\n",
    "    return a"
   ]
  },
  {
   "cell_type": "code",
   "execution_count": 15,
   "metadata": {},
   "outputs": [],
   "source": [
    "def all_A_Positive(a):\n",
    "    flag=True\n",
    "    for i in range(len(a)):\n",
    "        if a[i]<0:\n",
    "            flag=False\n",
    "    return flag\n"
   ]
  },
  {
   "cell_type": "code",
   "execution_count": 21,
   "metadata": {},
   "outputs": [],
   "source": [
    "def sum_all_negative(a):\n",
    "    summ=0\n",
    "    for i in range(len(a)):\n",
    "        if a[i]<0:\n",
    "            summ=summ+a[i]\n",
    "    print(\"negative sum ---\",summ)\n",
    "    return summ\n",
    "\n"
   ]
  },
  {
   "cell_type": "code",
   "execution_count": 18,
   "metadata": {},
   "outputs": [],
   "source": [
    "def maxBuillding(n,a,b,s):\n",
    "    flag=True\n",
    "    while(flag):\n",
    "        newB=0\n",
    "        a=subt(n,a,b)\n",
    "        if all_A_Positive(a):\n",
    "            newB=newB+1\n",
    "        elif sum_all_negative(a)+s>=0:\n",
    "            newB=newB+1\n",
    "            s=s+sum_all_negative(a)\n",
    "        else:\n",
    "            flag=False\n",
    "            return newB\n",
    "\n",
    "\n"
   ]
  },
  {
   "cell_type": "code",
   "execution_count": 20,
   "metadata": {},
   "outputs": [
    {
     "name": "stdout",
     "output_type": "stream",
     "text": [
      "5\n",
      "2\n",
      "[8, 9, 10, 11, 9]\n",
      "[1, 2, 3, 4, 3]\n",
      "3\n",
      "7\n",
      "7\n",
      "7\n",
      "7\n",
      "6\n",
      "[7, 7, 7, 7, 6]\n",
      "6\n",
      "5\n",
      "4\n",
      "3\n",
      "3\n",
      "[6, 5, 4, 3, 3]\n",
      "5\n",
      "3\n",
      "1\n",
      "-1\n",
      "0\n",
      "[5, 3, 1, -1, 0]\n",
      "4\n",
      "1\n",
      "-2\n",
      "-5\n",
      "-3\n",
      "[4, 1, -2, -5, -3]\n",
      "0 0\n"
     ]
    }
   ],
   "source": [
    "n=int(input())\n",
    "print(n)\n",
    "s=int(input())\n",
    "print(s)\n",
    "a=[int(e) for e in input().split()]\n",
    "print(a)\n",
    "b=[int(e) for e in input().split()]\n",
    "print(b)\n",
    "k=int(input())\n",
    "print(k)\n",
    "max=maxBuillding(n,a,b,s)\n",
    "if max>=k:\n",
    "    print(\"1\",max)\n",
    "else:\n",
    "    print(\"0\",max)\n"
   ]
  },
  {
   "cell_type": "code",
   "execution_count": 22,
   "metadata": {},
   "outputs": [],
   "source": [
    "a=[int(e) for e in input().split()]\n"
   ]
  },
  {
   "cell_type": "code",
   "execution_count": 12,
   "metadata": {},
   "outputs": [
    {
     "name": "stdout",
     "output_type": "stream",
     "text": [
      "2 1\n"
     ]
    }
   ],
   "source": [
    "print(\"2\",1)"
   ]
  },
  {
   "cell_type": "code",
   "execution_count": null,
   "metadata": {},
   "outputs": [],
   "source": []
  },
  {
   "cell_type": "code",
   "execution_count": null,
   "metadata": {},
   "outputs": [],
   "source": []
  },
  {
   "cell_type": "code",
   "execution_count": 31,
   "metadata": {},
   "outputs": [
    {
     "name": "stdout",
     "output_type": "stream",
     "text": [
      "['aaf', 'ab', 'abc']\n"
     ]
    }
   ],
   "source": [
    "l=[\"ab\",\"abc\",\"aaf\"]\n",
    "l.sort()\n",
    "print(l)"
   ]
  },
  {
   "cell_type": "code",
   "execution_count": 32,
   "metadata": {},
   "outputs": [
    {
     "data": {
      "text/plain": [
       "1"
      ]
     },
     "execution_count": 32,
     "metadata": {},
     "output_type": "execute_result"
    }
   ],
   "source": [
    "abs(-1)"
   ]
  },
  {
   "cell_type": "code",
   "execution_count": 37,
   "metadata": {},
   "outputs": [
    {
     "data": {
      "text/plain": [
       "''"
      ]
     },
     "execution_count": 37,
     "metadata": {},
     "output_type": "execute_result"
    }
   ],
   "source": [
    "\"a\"[:-1]"
   ]
  },
  {
   "cell_type": "code",
   "execution_count": 39,
   "metadata": {},
   "outputs": [],
   "source": [
    "def is_similar(e1,e2):\n",
    "    e1_l=len(e1)\n",
    "    e2_l=len(e2)\n",
    "    diff=abs(e1_l-e2_l)\n",
    "\n",
    "    if diff>1:\n",
    "        return False\n",
    "\n",
    "    elif diff==0:\n",
    "        return e1[:-1]==e2[:-1]\n",
    "\n",
    "    elif diff==1:\n",
    "        if e1_l<e2_l:\n",
    "            return e1==e2[:-1]\n",
    "        else:\n",
    "            return e2==e1[:-1]\n",
    "\n"
   ]
  },
  {
   "cell_type": "code",
   "execution_count": 38,
   "metadata": {},
   "outputs": [],
   "source": [
    "def similar(words):\n",
    "    total_similar=0\n",
    "    words.sort()\n",
    "    for i in range(len(words)):\n",
    "        element1=words[i]\n",
    "        num_similar=0\n",
    "        j=i+1\n",
    "        while j < (len(words)):\n",
    "            element2= words[j]\n",
    "            if is_similar(element1,element2):\n",
    "                num_similar=num_similar+1\n",
    "            j=j+1\n",
    "\n",
    "        if num_similar>0:\n",
    "            total_similar=total_similar+num_similar+1\n",
    "    return total_similar\n"
   ]
  },
  {
   "cell_type": "code",
   "execution_count": null,
   "metadata": {},
   "outputs": [],
   "source": [
    "n = int(input())\n",
    "words = []\n",
    "for i in range(n):\n",
    "\twords.append(input())\n",
    "total_similar = similar(words)"
   ]
  }
 ],
 "metadata": {
  "interpreter": {
   "hash": "40b117701d89d157f47ae14bbdd99ac88deed71b37402bcc6127ca13f2449332"
  },
  "kernelspec": {
   "display_name": "Python 3.9.6 64-bit",
   "name": "python3"
  },
  "language_info": {
   "codemirror_mode": {
    "name": "ipython",
    "version": 3
   },
   "file_extension": ".py",
   "mimetype": "text/x-python",
   "name": "python",
   "nbconvert_exporter": "python",
   "pygments_lexer": "ipython3",
   "version": "3.9.6"
  },
  "orig_nbformat": 4
 },
 "nbformat": 4,
 "nbformat_minor": 2
}
