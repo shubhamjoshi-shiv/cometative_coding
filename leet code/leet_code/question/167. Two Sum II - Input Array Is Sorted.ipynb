{
 "cells": [
  {
   "cell_type": "markdown",
   "id": "ca53c053",
   "metadata": {},
   "source": [
    "\n",
    "167. Two Sum II - Input Array Is Sorted\n",
    "Medium\n",
    "Topics\n",
    "premium lock icon\n",
    "Companies\n",
    "Given a 1-indexed array of integers numbers that is already sorted in non-decreasing order, find two numbers such that they add up to a specific target number. Let these two numbers be numbers[index1] and numbers[index2] where 1 <= index1 < index2 <= numbers.length.\n",
    "\n",
    "Return the indices of the two numbers, index1 and index2, added by one as an integer array [index1, index2] of length 2.\n",
    "\n",
    "The tests are generated such that there is exactly one solution. You may not use the same element twice.\n",
    "\n",
    "Your solution must use only constant extra space.\n",
    "\n",
    " \n",
    "\n",
    "Example 1:\n",
    "\n",
    "Input: numbers = [2,7,11,15], target = 9\n",
    "Output: [1,2]\n",
    "Explanation: The sum of 2 and 7 is 9. Therefore, index1 = 1, index2 = 2. We return [1, 2].\n",
    "Example 2:\n",
    "\n",
    "Input: numbers = [2,3,4], target = 6\n",
    "Output: [1,3]\n",
    "Explanation: The sum of 2 and 4 is 6. Therefore index1 = 1, index2 = 3. We return [1, 3].\n",
    "Example 3:\n",
    "\n",
    "Input: numbers = [-1,0], target = -1\n",
    "Output: [1,2]\n",
    "Explanation: The sum of -1 and 0 is -1. Therefore index1 = 1, index2 = 2. We return [1, 2].\n",
    " \n",
    "\n",
    "Constraints:\n",
    "\n",
    "2 <= numbers.length <= 3 * 104\n",
    "-1000 <= numbers[i] <= 1000\n",
    "numbers is sorted in non-decreasing order.\n",
    "-1000 <= target <= 1000\n",
    "The tests are generated such that there is exactly one solution."
   ]
  },
  {
   "cell_type": "code",
   "execution_count": 5,
   "id": "94896c4d",
   "metadata": {},
   "outputs": [],
   "source": [
    "from typing import List,Tuple\n",
    "class Solution:\n",
    "    def twoSum(self, numbers: List[int], target: int) -> List[int]:\n",
    "        numbers_length = len(numbers)\n",
    "        l,r = 0,numbers_length-1\n",
    "        while r>l:\n",
    "            current_sum = numbers[l]+numbers[r]\n",
    "            if current_sum > target:\n",
    "                r = r - 1\n",
    "            elif current_sum < target:\n",
    "                l = l + 1\n",
    "            else:\n",
    "                break\n",
    "        return [l+1,r+1] # answer in index starting from 1"
   ]
  },
  {
   "cell_type": "code",
   "execution_count": 7,
   "id": "5f7588bf",
   "metadata": {},
   "outputs": [
    {
     "name": "stdout",
     "output_type": "stream",
     "text": [
      "tc passed\n",
      "tc passed\n",
      "tc passed\n"
     ]
    }
   ],
   "source": [
    "#Testing code\n",
    "def compare_results(result, output_param, input_param, comparison_level):\n",
    "    match comparison_level:\n",
    "        case 0:\n",
    "            if result != output_param:\n",
    "                print('tc failed','expected ->',output_param,result,'<- got', input_param)\n",
    "            else:\n",
    "                print('tc passed')\n",
    "        case 1:\n",
    "            if result != output_param:\n",
    "                print('tc failed','expected ->',output_param,result,'<- got', input_param, sep='\\n')\n",
    "            else:\n",
    "                print('tc passed')\n",
    "\n",
    "def run_test_case():\n",
    "    s = Solution()\n",
    "    comparison_level = 0\n",
    "\n",
    "    \n",
    "    # Example 1\n",
    "    result = s.twoSum(numbers = [2,7,11,15], target = 9)\n",
    "    input_param = 'numbers = [2,7,11,15], target = 9'\n",
    "    output_param = [1,2]\n",
    "    compare_results(result, output_param, input_param, comparison_level)\n",
    "        \n",
    "    # Example 2\n",
    "    result = s.twoSum(numbers = [2,3,4], target = 6)\n",
    "    input_param = 'numbers = [2,3,4], target = 6'\n",
    "    output_param = [1,3]\n",
    "    compare_results(result, output_param, input_param, comparison_level)\n",
    "        \n",
    "    # Example 3\n",
    "    result = s.twoSum(numbers = [-1,0], target = -1)\n",
    "    input_param = 'numbers = [-1,0], target = -1'\n",
    "    output_param = [1,2]\n",
    "    compare_results(result, output_param, input_param, comparison_level)\n",
    "        \n",
    "run_test_case()"
   ]
  }
 ],
 "metadata": {
  "kernelspec": {
   "display_name": "Python (dashboard_env)",
   "language": "python",
   "name": "dashboard_env"
  },
  "language_info": {
   "codemirror_mode": {
    "name": "ipython",
    "version": 3
   },
   "file_extension": ".py",
   "mimetype": "text/x-python",
   "name": "python",
   "nbconvert_exporter": "python",
   "pygments_lexer": "ipython3",
   "version": "3.13.3"
  }
 },
 "nbformat": 4,
 "nbformat_minor": 5
}
