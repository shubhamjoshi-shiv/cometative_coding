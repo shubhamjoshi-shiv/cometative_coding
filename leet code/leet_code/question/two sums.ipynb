{
 "cells": [
  {
   "cell_type": "code",
   "execution_count": null,
   "metadata": {},
   "outputs": [],
   "source": [
    "\n",
    "def twoSum(self, nums: [int], target: int) -> [int]:\n",
    "    previous_hash_map = {}\n",
    "    for index,value in enumerate(nums):\n",
    "        search_value = target - value\n",
    "        if search_value in previous_hash_map:\n",
    "            return [previous_hash_map[search_value], index]\n",
    "        previous_hash_map[value]=index\n",
    "\n"
   ]
  },
  {
   "cell_type": "code",
   "execution_count": null,
   "metadata": {},
   "outputs": [],
   "source": []
  },
  {
   "cell_type": "code",
   "execution_count": null,
   "metadata": {},
   "outputs": [],
   "source": [
    "#armstrong number - sum of cube of all digit equal to the number\n",
    "#input - 153\n",
    "#Output - 1*1*1 + 5*5*5 + 3*3*3\n",
    "# asum -input is nummber"
   ]
  },
  {
   "cell_type": "code",
   "execution_count": 4,
   "metadata": {},
   "outputs": [
    {
     "name": "stdout",
     "output_type": "stream",
     "text": [
      "True\n",
      "False\n",
      "True\n",
      "False\n"
     ]
    }
   ],
   "source": [
    "def check_arm(i):\n",
    "    raise_to_power = len(i)    \n",
    "    sum_of_digit_power = 0\n",
    "    for digit in i:\n",
    "        int_digit = int(digit)\n",
    "        digit_power = 1\n",
    "        for j in range(raise_to_power):\n",
    "            digit_power = digit_power * int_digit\n",
    "        sum_of_digit_power = sum_of_digit_power + digit_power\n",
    "    return sum_of_digit_power == int(i)\n",
    "\n",
    "print(check_arm(\"153\"))\n",
    "print(check_arm(\"152\"))\n",
    "print(check_arm(\"1634\"))\n",
    "print(check_arm(\"1233\"))"
   ]
  },
  {
   "cell_type": "code",
   "execution_count": null,
   "metadata": {},
   "outputs": [],
   "source": []
  }
 ],
 "metadata": {
  "kernelspec": {
   "display_name": "Python 3",
   "language": "python",
   "name": "python3"
  },
  "language_info": {
   "codemirror_mode": {
    "name": "ipython",
    "version": 3
   },
   "file_extension": ".py",
   "mimetype": "text/x-python",
   "name": "python",
   "nbconvert_exporter": "python",
   "pygments_lexer": "ipython3",
   "version": "3.12.1"
  }
 },
 "nbformat": 4,
 "nbformat_minor": 2
}
