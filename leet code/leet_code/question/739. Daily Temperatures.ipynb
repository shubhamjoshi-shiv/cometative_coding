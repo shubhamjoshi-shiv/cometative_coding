{
 "cells": [
  {
   "cell_type": "markdown",
   "id": "a2deddb0",
   "metadata": {},
   "source": [
    "739. Daily Temperatures\n",
    "Medium\n",
    "Topics\n",
    "premium lock icon\n",
    "Companies\n",
    "Hint\n",
    "Given an array of integers temperatures represents the daily temperatures, return an array answer such that answer[i] is the number of days you have to wait after the ith day to get a warmer temperature. If there is no future day for which this is possible, keep answer[i] == 0 instead.\n",
    "\n",
    " \n",
    "\n",
    "Example 1:\n",
    "\n",
    "Input: temperatures = [73,74,75,71,69,72,76,73]\n",
    "Output: [1,1,4,2,1,1,0,0]\n",
    "Example 2:\n",
    "\n",
    "Input: temperatures = [30,40,50,60]\n",
    "Output: [1,1,1,0]\n",
    "Example 3:\n",
    "\n",
    "Input: temperatures = [30,60,90]\n",
    "Output: [1,1,0]\n",
    " \n",
    "\n",
    "Constraints:\n",
    "\n",
    "1 <= temperatures.length <= 105\n",
    "30 <= temperatures[i] <= 100"
   ]
  },
  {
   "cell_type": "code",
   "execution_count": null,
   "id": "4e2599a5",
   "metadata": {},
   "outputs": [],
   "source": [
    "# sollution 1\n",
    "from typing import List\n",
    "class Solution:\n",
    "    def dailyTemperatures(self, temperatures: List[int]) -> List[int]:\n",
    "        higher_days =[0]*len(temperatures)\n",
    "        temp_stack = [] # [temp,index]\n",
    "        for index,temp in enumerate(temperatures):\n",
    "            if len(temp_stack)>0:\n",
    "                for i in range(len(temp_stack)-1,-1,-1):\n",
    "                    if temp_stack[i][0] < temp:\n",
    "                        top_index = temp_stack[i][1]\n",
    "                        diff = index - top_index\n",
    "                        higher_days[top_index] = diff\n",
    "                        temp_stack.pop()\n",
    "                        \n",
    "                    \n",
    "            temp_stack.append([temp,index])\n",
    "        return higher_days\n",
    "                \n",
    "\n"
   ]
  },
  {
   "cell_type": "code",
   "execution_count": null,
   "id": "951cfd08",
   "metadata": {},
   "outputs": [],
   "source": [
    "# sollution 2 optimisation 1\n",
    "from typing import List\n",
    "class Solution:\n",
    "    def dailyTemperatures(self, temperatures: List[int]) -> List[int]:\n",
    "        higher_days =[0]*len(temperatures)\n",
    "        temp_stack = [] # [temp,index]\n",
    "        for index,temp in enumerate(temperatures):\n",
    "            while temp_stack and temp_stack[-1][0] < temp:\n",
    "                higher_days[temp_stack[-1][1]] = index - temp_stack[-1][1]\n",
    "                temp_stack.pop()\n",
    "            temp_stack.append([temp,index])\n",
    "        return higher_days\n",
    "                \n",
    "\n"
   ]
  },
  {
   "cell_type": "code",
   "execution_count": 40,
   "id": "30d6bf57",
   "metadata": {},
   "outputs": [],
   "source": [
    "# sollution 3 optimisation 2\n",
    "class Solution:\n",
    "    def dailyTemperatures(self, temperatures):\n",
    "        results = [0] * len(temperatures)\n",
    "        stack = []\n",
    "        for i, temp in enumerate(temperatures):\n",
    "            while stack and temperatures[stack[-1]] < temp:\n",
    "                index = stack.pop()\n",
    "                results[index] = i - index\n",
    "            stack.append(i)\n",
    "\n",
    "        return results"
   ]
  },
  {
   "cell_type": "code",
   "execution_count": 41,
   "id": "d483b2c3",
   "metadata": {},
   "outputs": [
    {
     "name": "stdout",
     "output_type": "stream",
     "text": [
      "tc passed\n",
      "tc passed\n",
      "tc passed\n"
     ]
    }
   ],
   "source": [
    "#Testing code\n",
    "def compare_results(result, output_param, input_param, comparison_level):\n",
    "    match comparison_level:\n",
    "        case 0:\n",
    "            if result != output_param:\n",
    "                print('tc failed','expected ->',output_param,result,'<- got', input_param)\n",
    "            else:\n",
    "                print('tc passed')\n",
    "        case 1:\n",
    "            if result != output_param:\n",
    "                print('tc failed','expected ->',output_param,result,'<- got', input_param, sep='\\n')\n",
    "            else:\n",
    "                print('tc passed')\n",
    "\n",
    "def run_test_case():\n",
    "    s = Solution()\n",
    "    comparison_level = 0\n",
    "\n",
    "    \n",
    "    # Example 1\n",
    "    result = s.dailyTemperatures(temperatures = [73,74,75,71,69,72,76,73])\n",
    "    input_param = 'temperatures = [73,74,75,71,69,72,76,73]'\n",
    "    output_param = [1,1,4,2,1,1,0,0]\n",
    "    compare_results(result, output_param, input_param, comparison_level)\n",
    "        \n",
    "    # Example 2\n",
    "    result = s.dailyTemperatures(temperatures = [30,40,50,60])\n",
    "    input_param = 'temperatures = [30,40,50,60]'\n",
    "    output_param = [1,1,1,0]\n",
    "    compare_results(result, output_param, input_param, comparison_level)\n",
    "        \n",
    "    # Example 3\n",
    "    result = s.dailyTemperatures(temperatures = [30,60,90])\n",
    "    input_param = 'temperatures = [30,60,90]'\n",
    "    output_param = [1,1,0]\n",
    "    compare_results(result, output_param, input_param, comparison_level)\n",
    "        \n",
    "run_test_case()"
   ]
  }
 ],
 "metadata": {
  "kernelspec": {
   "display_name": "Python 3",
   "language": "python",
   "name": "python3"
  },
  "language_info": {
   "codemirror_mode": {
    "name": "ipython",
    "version": 3
   },
   "file_extension": ".py",
   "mimetype": "text/x-python",
   "name": "python",
   "nbconvert_exporter": "python",
   "pygments_lexer": "ipython3",
   "version": "3.12.1"
  }
 },
 "nbformat": 4,
 "nbformat_minor": 5
}
