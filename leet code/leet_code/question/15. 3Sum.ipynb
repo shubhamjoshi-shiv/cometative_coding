{
 "cells": [
  {
   "cell_type": "markdown",
   "id": "13bf14a5",
   "metadata": {},
   "source": [
    "15. 3Sum\n",
    "\n",
    "Given an integer array nums, return all the triplets [nums[i], nums[j], nums[k]] such that i != j, i != k, and j != k, and nums[i] + nums[j] + nums[k] == 0.\n",
    "\n",
    "Notice that the solution set must not contain duplicate triplets.\n",
    "\n",
    " \n",
    "\n",
    "Example 1:\n",
    "\n",
    "Input: nums = [-1,0,1,2,-1,-4]\n",
    "Output: [[-1,-1,2],[-1,0,1]]\n",
    "Explanation: \n",
    "nums[0] + nums[1] + nums[2] = (-1) + 0 + 1 = 0.\n",
    "nums[1] + nums[2] + nums[4] = 0 + 1 + (-1) = 0.\n",
    "nums[0] + nums[3] + nums[4] = (-1) + 2 + (-1) = 0.\n",
    "The distinct triplets are [-1,0,1] and [-1,-1,2].\n",
    "Notice that the order of the output and the order of the triplets does not matter.\n",
    "Example 2:\n",
    "\n",
    "Input: nums = [0,1,1]\n",
    "Output: []\n",
    "Explanation: The only possible triplet does not sum up to 0.\n",
    "Example 3:\n",
    "\n",
    "Input: nums = [0,0,0]\n",
    "Output: [[0,0,0]]\n",
    "Explanation: The only possible triplet sums up to 0.\n",
    " \n",
    "\n",
    "Constraints:\n",
    "\n",
    "3 <= nums.length <= 3000\n",
    "-105 <= nums[i] <= 105"
   ]
  },
  {
   "cell_type": "code",
   "execution_count": 25,
   "id": "b9869caa",
   "metadata": {},
   "outputs": [],
   "source": [
    "from typing import List,Tuple\n",
    "class Solution:\n",
    "    def threeSum(self, nums: List[int]) -> List[List[int]]:\n",
    "        nums.sort()\n",
    "        output = []\n",
    "        for pos in range(len(nums)):\n",
    "            if pos>0 and nums[pos-1] == nums[pos]:\n",
    "                continue\n",
    "\n",
    "            l = pos+1\n",
    "            r = len(nums)-1\n",
    "            while r>l :\n",
    "                sum = nums[pos] + nums[l] + nums[r]\n",
    "                if sum > 0:\n",
    "                    r = r-1\n",
    "                elif sum < 0:\n",
    "                    l = l+1\n",
    "                elif sum == 0:\n",
    "                    output.append([nums[pos], nums[l], nums[r]])\n",
    "                    l=l +1\n",
    "                    while l<r and nums[l-1] == nums[l]:\n",
    "                        l=l+1\n",
    "                \n",
    "        return output    \n",
    "\n"
   ]
  },
  {
   "cell_type": "code",
   "execution_count": 27,
   "id": "3a65dd00",
   "metadata": {},
   "outputs": [
    {
     "name": "stdout",
     "output_type": "stream",
     "text": [
      "tc passed\n",
      "tc passed\n",
      "tc passed\n"
     ]
    }
   ],
   "source": [
    "\n",
    "def compare_results(result, output_param, input_param, comparison_level):\n",
    "    match comparison_level:\n",
    "        case 0:\n",
    "            if result != output_param:\n",
    "                print('tc failed','expected ->',output_param,result,'<- got', input_param)\n",
    "            else:\n",
    "                print('tc passed')\n",
    "        case 1:\n",
    "            if result != output_param:\n",
    "                print('tc failed','expected ->',output_param,result,'<- got', input_param, sep='\\n')\n",
    "            else:\n",
    "                print('tc passed')\n",
    "\n",
    "def run_test_case():\n",
    "    s = Solution()\n",
    "    comparison_level = 0\n",
    "\n",
    "    \n",
    "    # Example 1\n",
    "    result = s.threeSum(nums = [-1,0,1,2,-1,-4])\n",
    "    input_param = 'nums = [-1,0,1,2,-1,-4]'\n",
    "    output_param = [[-1,-1,2],[-1,0,1]]\n",
    "    compare_results(result, output_param, input_param, comparison_level)\n",
    "        \n",
    "    # Example 2\n",
    "    result = s.threeSum(nums = [0,1,1])\n",
    "    input_param = 'nums = [0,1,1]'\n",
    "    output_param = []\n",
    "    compare_results(result, output_param, input_param, comparison_level)\n",
    "        \n",
    "    # Example 3\n",
    "    result = s.threeSum(nums = [0,0,0])\n",
    "    input_param = 'nums = [0,0,0]'\n",
    "    output_param = [[0,0,0]]\n",
    "    compare_results(result, output_param, input_param, comparison_level)\n",
    "        \n",
    "run_test_case()"
   ]
  }
 ],
 "metadata": {
  "kernelspec": {
   "display_name": "Python (dashboard_env)",
   "language": "python",
   "name": "dashboard_env"
  },
  "language_info": {
   "codemirror_mode": {
    "name": "ipython",
    "version": 3
   },
   "file_extension": ".py",
   "mimetype": "text/x-python",
   "name": "python",
   "nbconvert_exporter": "python",
   "pygments_lexer": "ipython3",
   "version": "3.13.3"
  }
 },
 "nbformat": 4,
 "nbformat_minor": 5
}
