{
 "cells": [
  {
   "attachments": {
    "image.png": {
     "image/png": "[encoded data removed]"
    }
   },
   "cell_type": "markdown",
   "metadata": {},
   "source": [
    "42. Trapping Rain Water\n",
    "\n",
    "https://leetcode.com/problems/trapping-rain-water/description/\n",
    "\n",
    "Given n non-negative integers representing an elevation map where the width of each bar is 1, compute how much water it can trap after raining.\n",
    "\n",
    " \n",
    "\n",
    "Example 1:\n",
    "\n",
    "![image.png](attachment:image.png)\n",
    "Input: height = [0,1,0,2,1,0,1,3,2,1,2,1]\n",
    "Output: 6\n",
    "Explanation: The above elevation map (black section) is represented by array [0,1,0,2,1,0,1,3,2,1,2,1]. In this case, 6 units of rain water (blue section) are being trapped.\n",
    "Example 2:\n",
    "\n",
    "Input: height = [4,2,0,3,2,5]\n",
    "Output: 9\n",
    " \n",
    "\n",
    "Constraints:\n",
    "\n",
    "n == height.length\n",
    "1 <= n <= 2 * 104\n",
    "0 <= height[i] <= 105"
   ]
  },
  {
   "cell_type": "code",
   "execution_count": 1,
   "metadata": {},
   "outputs": [],
   "source": [
    "# solution 1\n",
    "from typing import List,Tuple\n",
    "class Solution:\n",
    "\n",
    "    def fill_water(self, bucket_height :int, height: List[int],l :int, r :int) -> Tuple[int,List[int]]:\n",
    "        water_added = 0\n",
    "        for i in range(l,r+1):\n",
    "            if height[i]<bucket_height:\n",
    "                water_added = water_added + (bucket_height - height[i])\n",
    "                height[i] = bucket_height\n",
    "        \n",
    "        return water_added, height\n",
    "        \n",
    "    def trap(self, height: List[int])-> int:\n",
    "        \n",
    "        l,r = 0,len(height)-1\n",
    "        total_water_added = 0\n",
    "        max_bucket_height = min(height[l],height[r])\n",
    "        first_run =True\n",
    "        while l<r:\n",
    "            bucket_height = min(height[l],height[r])\n",
    "            if bucket_height > max_bucket_height or first_run:\n",
    "                water_added, height = self.fill_water(bucket_height,height,l,r)\n",
    "                total_water_added = total_water_added + water_added\n",
    "                max_bucket_height = bucket_height\n",
    "\n",
    "            if height[l]<height[r]:\n",
    "                l=l+1\n",
    "            else :\n",
    "                r=r-1\n",
    "        \n",
    "        return total_water_added\n",
    "\n",
    "\n",
    "        "
   ]
  },
  {
   "cell_type": "code",
   "execution_count": null,
   "metadata": {},
   "outputs": [],
   "source": []
  },
  {
   "cell_type": "code",
   "execution_count": 6,
   "metadata": {},
   "outputs": [
    {
     "name": "stdout",
     "output_type": "stream",
     "text": [
      "tc passed\n",
      "tc passed\n",
      "tc passed\n",
      "expected result - 2\n",
      "got result - 2\n",
      "tc passed\n",
      "expected result - 1\n",
      "got result - 1\n"
     ]
    }
   ],
   "source": [
    "def run_test_case():\n",
    "            s = Solution()\n",
    "    \n",
    "            # Example 1\n",
    "            result = s.trap(height = [0,1,0,2,1,0,1,3,2,1,2,1])\n",
    "            output_param = 6\n",
    "            if result != output_param:\n",
    "                print('expected result -',output_param)\n",
    "                print('got result -',result)\n",
    "            else:\n",
    "                print('tc passed')\n",
    "            \n",
    "            # Example 2\n",
    "            result = s.trap(height = [4,2,0,3,2,5])\n",
    "            output_param = 9\n",
    "            if result != output_param:\n",
    "                print('expected result -',output_param)\n",
    "                print('got result -',result)\n",
    "            else:\n",
    "                print('tc passed')\n",
    "\n",
    "            # edge case 1\n",
    "            result = s.trap(height = [0,1,0,2,1,0,1,1,1,1,1,1])\n",
    "            output_param = 2\n",
    "            if result != output_param:\n",
    "                print('expected result -',output_param)\n",
    "                print('got result -',result)\n",
    "            else:\n",
    "                print('tc passed')\n",
    "                print('expected result -',output_param)\n",
    "                print('got result -',result)\n",
    "            \n",
    "            # edge case 2\n",
    "            result = s.trap(height = [2,0,1])\n",
    "            output_param = 1\n",
    "            if result != output_param:\n",
    "                print('expected result -',output_param)\n",
    "                print('got result -',result)\n",
    "            else:\n",
    "                print('tc passed')\n",
    "                print('expected result -',output_param)\n",
    "                print('got result -',result)\n",
    "            \n",
    "run_test_case()"
   ]
  }
 ],
 "metadata": {
  "kernelspec": {
   "display_name": "Python (dashboard_env)",
   "language": "python",
   "name": "dashboard_env"
  },
  "language_info": {
   "codemirror_mode": {
    "name": "ipython",
    "version": 3
   },
   "file_extension": ".py",
   "mimetype": "text/x-python",
   "name": "python",
   "nbconvert_exporter": "python",
   "pygments_lexer": "ipython3",
   "version": "3.13.3"
  }
 },
 "nbformat": 4,
 "nbformat_minor": 2
}
