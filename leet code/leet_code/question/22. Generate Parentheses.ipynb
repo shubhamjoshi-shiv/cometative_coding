{
 "cells": [
  {
   "cell_type": "markdown",
   "id": "f40722b6",
   "metadata": {},
   "source": [
    "22. Generate Parentheses\n",
    "Medium\n",
    "Topics\n",
    "premium lock icon\n",
    "Companies\n",
    "Given n pairs of parentheses, write a function to generate all combinations of well-formed parentheses.\n",
    "\n",
    " \n",
    "\n",
    "Example 1:\n",
    "\n",
    "Input: n = 3\n",
    "Output: [\"((()))\",\"(()())\",\"(())()\",\"()(())\",\"()()()\"]\n",
    "Example 2:\n",
    "\n",
    "Input: n = 1\n",
    "Output: [\"()\"]\n",
    " \n",
    "\n",
    "Constraints:\n",
    "\n",
    "1 <= n <= 8"
   ]
  },
  {
   "cell_type": "code",
   "execution_count": 2,
   "id": "cac6cab9",
   "metadata": {},
   "outputs": [],
   "source": [
    "from typing import List\n",
    "class Solution:\n",
    "    \n",
    "    def generateParenthesis(self, n: int) -> List[str]:\n",
    "        all_pran = []\n",
    "        def add_pren(n,c_pren,ob,cb):\n",
    "            if len(c_pren)==n*2:\n",
    "                all_pran.append(c_pren)\n",
    "                return\n",
    "            if ob>0:\n",
    "                add_pren(n,c_pren + '(',ob-1,cb)\n",
    "            if ob<cb:\n",
    "                add_pren(n,c_pren + ')',ob,cb-1)\n",
    "        add_pren(n,'',n,n)\n",
    "        return all_pran"
   ]
  },
  {
   "cell_type": "code",
   "execution_count": 4,
   "id": "506b00eb",
   "metadata": {},
   "outputs": [
    {
     "name": "stdout",
     "output_type": "stream",
     "text": [
      "tc passed\n",
      "tc passed\n"
     ]
    }
   ],
   "source": [
    "#Testing code\n",
    "def compare_results(result, output_param, input_param, comparison_level):\n",
    "    match comparison_level:\n",
    "        case 0:\n",
    "            if result != output_param:\n",
    "                print('tc failed','expected ->',output_param,result,'<- got', input_param)\n",
    "            else:\n",
    "                print('tc passed')\n",
    "        case 1:\n",
    "            if result != output_param:\n",
    "                print('tc failed','expected ->',output_param,result,'<- got', input_param, sep='\\n')\n",
    "            else:\n",
    "                print('tc passed')\n",
    "\n",
    "def run_test_case():\n",
    "    s = Solution()\n",
    "    comparison_level = 0\n",
    "\n",
    "    \n",
    "    # Example 1\n",
    "    result = s.generateParenthesis(n = 3)\n",
    "    input_param = 'n = 3'\n",
    "    output_param = [\"((()))\",\"(()())\",\"(())()\",\"()(())\",\"()()()\"]\n",
    "    compare_results(result, output_param, input_param, comparison_level)\n",
    "        \n",
    "    # Example 2\n",
    "    result = s.generateParenthesis(n = 1)\n",
    "    input_param = 'n = 1'\n",
    "    output_param = [\"()\"]\n",
    "    compare_results(result, output_param, input_param, comparison_level)\n",
    "        \n",
    "run_test_case()"
   ]
  }
 ],
 "metadata": {
  "kernelspec": {
   "display_name": "Python (dashboard_env)",
   "language": "python",
   "name": "dashboard_env"
  },
  "language_info": {
   "codemirror_mode": {
    "name": "ipython",
    "version": 3
   },
   "file_extension": ".py",
   "mimetype": "text/x-python",
   "name": "python",
   "nbconvert_exporter": "python",
   "pygments_lexer": "ipython3",
   "version": "3.13.3"
  }
 },
 "nbformat": 4,
 "nbformat_minor": 5
}
