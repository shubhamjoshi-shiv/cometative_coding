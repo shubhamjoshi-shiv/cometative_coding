{
 "cells": [
  {
   "cell_type": "markdown",
   "id": "f73f774e",
   "metadata": {},
   "source": [
    "125. Valid Palindrome\n",
    "\n",
    "A phrase is a palindrome if, after converting all uppercase letters into lowercase letters and removing all non-alphanumeric characters, it reads the same forward and backward. Alphanumeric characters include letters and numbers.\n",
    "\n",
    "Given a string s, return true if it is a palindrome, or false otherwise.\n",
    "\n",
    " \n",
    "\n",
    "Example 1:\n",
    "\n",
    "Input: s = \"A man, a plan, a canal: Panama\"\n",
    "Output: true\n",
    "Explanation: \"amanaplanacanalpanama\" is a palindrome.\n",
    "Example 2:\n",
    "\n",
    "Input: s = \"race a car\"\n",
    "Output: false\n",
    "Explanation: \"raceacar\" is not a palindrome.\n",
    "Example 3:\n",
    "\n",
    "Input: s = \" \"\n",
    "Output: true\n",
    "Explanation: s is an empty string \"\" after removing non-alphanumeric characters.\n",
    "Since an empty string reads the same forward and backward, it is a palindrome.\n",
    " \n",
    "\n",
    "Constraints:\n",
    "\n",
    "1 <= s.length <= 2 * 105\n",
    "s consists only of printable ASCII characters."
   ]
  },
  {
   "cell_type": "code",
   "execution_count": null,
   "id": "936aee1a",
   "metadata": {},
   "outputs": [],
   "source": [
    "class Solution:\n",
    "    def isPalindrome(self, s: str) -> bool:\n",
    "        s = ''.join(c.lower() for c in s if c.isalnum())\n",
    "        if s == s[::-1]:\n",
    "            return True\n",
    "        else:\n",
    "            return False\n"
   ]
  },
  {
   "cell_type": "code",
   "execution_count": null,
   "id": "17cf4b3b",
   "metadata": {},
   "outputs": [],
   "source": [
    "# sollution 2\n",
    "class Solution:\n",
    "    def isPalindrome(self, s: str) -> bool:\n",
    "        s = ''.join(c.lower() for c in s if c.isalnum())\n",
    "\n",
    "        # reverse and compare half\n",
    "        if s[:int(len(s)/2)] == (s[::-1])[:int(len(s)/2)]:\n",
    "            return True\n",
    "        else:\n",
    "            return False\n"
   ]
  },
  {
   "cell_type": "code",
   "execution_count": null,
   "id": "bb07edca",
   "metadata": {},
   "outputs": [],
   "source": [
    "# sollution 3 -- will debug later\n",
    "class Solution:\n",
    "    def isPalindrome(self, s: str) -> bool:\n",
    "        s_len = len(s)\n",
    "        if s_len==0:\n",
    "            return True\n",
    "        l,r = 0,s_len-1\n",
    "        while r>l:\n",
    "            if s[l].lower() != s[r].lower():\n",
    "                return False\n",
    "            else:\n",
    "                l+=1\n",
    "                while not s[l].isalnum():\n",
    "                    l+=1\n",
    "                r-=1\n",
    "                while not s[r].isalnum():\n",
    "                    r-=1\n"
   ]
  },
  {
   "cell_type": "code",
   "execution_count": null,
   "id": "c66c8007",
   "metadata": {},
   "outputs": [
    {
     "name": "stdout",
     "output_type": "stream",
     "text": [
      "11a 3 eea\n"
     ]
    }
   ],
   "source": [
    "# hint\n",
    "s=\"11ee\"\n",
    "s=\"11aaee\"\n",
    "s = s.lower()\n",
    "s = ''.join(c for c in s if c.isalnum())\n",
    "print(s[:int(len(s)/2)],int(len(s)/2),(s[::-1])[:int(len(s)/2)])\n",
    "\n",
    "\n"
   ]
  },
  {
   "cell_type": "code",
   "execution_count": 185,
   "id": "d007a649",
   "metadata": {},
   "outputs": [
    {
     "name": "stdout",
     "output_type": "stream",
     "text": [
      "tc failed expected -> True None <- got s = \"A man, a plan, a canal: Panama\"\n",
      "tc passed\n",
      "tc failed expected -> True None <- got s = \" \"\n"
     ]
    }
   ],
   "source": [
    "\n",
    "def compare_results(result, output_param, input_param, comparison_level):\n",
    "    match comparison_level:\n",
    "        case 0:\n",
    "            if result != output_param:\n",
    "                print('tc failed','expected ->',output_param,result,'<- got', input_param)\n",
    "            else:\n",
    "                print('tc passed')\n",
    "        case 1:\n",
    "            if result != output_param:\n",
    "                print('tc failed','expected ->',output_param,result,'<- got', input_param, sep='\\n')\n",
    "            else:\n",
    "                print('tc passed')\n",
    "\n",
    "def run_test_case():\n",
    "    s = Solution()\n",
    "    comparison_level = 0\n",
    "\n",
    "    \n",
    "    # Example 1\n",
    "    result = s.isPalindrome(s = \"A man, a plan, a canal: Panama\")\n",
    "    input_param = 's = \"A man, a plan, a canal: Panama\"'\n",
    "    output_param = True\n",
    "    compare_results(result, output_param, input_param, comparison_level)\n",
    "        \n",
    "    # Example 2\n",
    "    result = s.isPalindrome(s = \"race a car\")\n",
    "    input_param = 's = \"race a car\"'\n",
    "    output_param = False\n",
    "    compare_results(result, output_param, input_param, comparison_level)\n",
    "        \n",
    "    # Example 3\n",
    "    result = s.isPalindrome(s = \" \")\n",
    "    input_param = 's = \" \"'\n",
    "    output_param = True\n",
    "    compare_results(result, output_param, input_param, comparison_level)\n",
    "        \n",
    "run_test_case()"
   ]
  }
 ],
 "metadata": {
  "kernelspec": {
   "display_name": "Python (dashboard_env)",
   "language": "python",
   "name": "dashboard_env"
  },
  "language_info": {
   "codemirror_mode": {
    "name": "ipython",
    "version": 3
   },
   "file_extension": ".py",
   "mimetype": "text/x-python",
   "name": "python",
   "nbconvert_exporter": "python",
   "pygments_lexer": "ipython3",
   "version": "3.13.3"
  }
 },
 "nbformat": 4,
 "nbformat_minor": 5
}
