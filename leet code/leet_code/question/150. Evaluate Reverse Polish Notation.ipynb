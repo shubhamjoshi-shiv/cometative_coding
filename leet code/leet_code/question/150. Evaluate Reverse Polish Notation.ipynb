{
 "cells": [
  {
   "cell_type": "markdown",
   "id": "752defd1",
   "metadata": {},
   "source": [
    "150. Evaluate Reverse Polish Notation\n",
    "\n",
    "150. Evaluate Reverse Polish Notation - Explanation\n",
    "Problem Link\n",
    "\n",
    "Description\n",
    "You are given an array of strings tokens that represents a valid arithmetic expression in Reverse Polish Notation.\n",
    "\n",
    "Return the integer that represents the evaluation of the expression.\n",
    "\n",
    "The operands may be integers or the results of other operations.\n",
    "The operators include '+', '-', '*', and '/'.\n",
    "Assume that division between integers always truncates toward zero.\n",
    "Example 1:\n",
    "\n",
    "Input: tokens = [\"1\",\"2\",\"+\",\"3\",\"*\",\"4\",\"-\"]\n",
    "\n",
    "Output: 5\n",
    "\n",
    "Explanation: ((1 + 2) * 3) - 4 = 5\n",
    "Constraints:\n",
    "\n",
    "1 <= tokens.length <= 1000.\n",
    "tokens[i] is \"+\", \"-\", \"*\", or \"/\", or a string representing an integer in the range [-100, 100].\n",
    "\n",
    "\n",
    "Recommended Time & Space Complexity\n",
    "You should aim for a solution with O(n) time and O(n) space, where n is the size of the input array.\n",
    "\n",
    "\n"
   ]
  },
  {
   "cell_type": "code",
   "execution_count": 6,
   "id": "86300bb1",
   "metadata": {},
   "outputs": [],
   "source": [
    "from typing import List,Tuple\n",
    "class Solution:\n",
    "    def evalRPN(self, tokens: List[str]) -> int:\n",
    "        operator = '+-/*'\n",
    "        number_stack = []\n",
    "        for t in tokens:\n",
    "            if t in operator:\n",
    "                a = number_stack.pop()\n",
    "                b = number_stack.pop()\n",
    "                match t:    \n",
    "                    case '+':\n",
    "                        number_stack.append(b+a)\n",
    "                    case '-':\n",
    "                        number_stack.append(b-a)\n",
    "                    case '*':\n",
    "                        number_stack.append(b*a)\n",
    "                    case '/':\n",
    "                        number_stack.append(int(b/a))\n",
    "            else:\n",
    "                number_stack.append(int(t))\n",
    "        return number_stack[-1]\n",
    "\n",
    "\n"
   ]
  },
  {
   "cell_type": "code",
   "execution_count": 7,
   "id": "d4028133",
   "metadata": {},
   "outputs": [
    {
     "name": "stdout",
     "output_type": "stream",
     "text": [
      "tc passed\n"
     ]
    }
   ],
   "source": [
    "\n",
    "def compare_results(result, output_param, input_param, comparison_level):\n",
    "    match comparison_level:\n",
    "        case 0:\n",
    "            if result != output_param:\n",
    "                print('tc failed','expected ->',output_param,result,'<- got', input_param)\n",
    "            else:\n",
    "                print('tc passed')\n",
    "        case 1:\n",
    "            if result != output_param:\n",
    "                print('tc failed','expected ->',output_param,result,'<- got', input_param, sep='\\n')\n",
    "            else:\n",
    "                print('tc passed')\n",
    "\n",
    "def run_test_case():\n",
    "    s = Solution()\n",
    "    comparison_level = 0\n",
    "\n",
    "    \n",
    "    # Example 1\n",
    "    result = s.evalRPN(tokens = [\"1\",\"2\",\"+\",\"3\",\"*\",\"4\",\"-\"])\n",
    "    input_param = 'tokens = [\"1\",\"2\",\"+\",\"3\",\"*\",\"4\",\"-\"]'\n",
    "    output_param = 5\n",
    "    compare_results(result, output_param, input_param, comparison_level)\n",
    "        \n",
    "run_test_case()"
   ]
  }
 ],
 "metadata": {
  "kernelspec": {
   "display_name": "Python (dashboard_env)",
   "language": "python",
   "name": "dashboard_env"
  },
  "language_info": {
   "codemirror_mode": {
    "name": "ipython",
    "version": 3
   },
   "file_extension": ".py",
   "mimetype": "text/x-python",
   "name": "python",
   "nbconvert_exporter": "python",
   "pygments_lexer": "ipython3",
   "version": "3.13.3"
  }
 },
 "nbformat": 4,
 "nbformat_minor": 5
}
