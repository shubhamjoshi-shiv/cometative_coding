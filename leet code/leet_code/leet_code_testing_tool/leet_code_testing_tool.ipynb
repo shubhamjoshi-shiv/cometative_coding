{
 "cells": [
  {
   "cell_type": "code",
   "execution_count": 1,
   "metadata": {},
   "outputs": [],
   "source": [
    "def get_example_list(examples_details:str)->[int]:\n",
    "    examples_list = []\n",
    "    example_number = -1\n",
    "    examples_details = examples_details.split('\\n')\n",
    "    examples_details\n",
    "    for line in examples_details:\n",
    "        # print(line)\n",
    "        line = line.strip()\n",
    "        line = line.replace('false','False')\n",
    "        line = line.replace('true','True')\n",
    "        if line=='':\n",
    "            pass\n",
    "        elif \"Example\" in line:\n",
    "            # print(line)\n",
    "            example_number += 1\n",
    "            examples_list.append([])\n",
    "        else:\n",
    "            pass\n",
    "            examples_list[example_number].append(line)\n",
    "    return examples_list\n"
   ]
  },
  {
   "cell_type": "code",
   "execution_count": 3,
   "metadata": {},
   "outputs": [],
   "source": [
    "def get_testing_code(examples_list,function_name)->str:\n",
    "    full_testing_code = \"\"\"def run_test_case():\n",
    "            s = Solution()\n",
    "    \"\"\"\n",
    "    for i,example in enumerate(examples_list):\n",
    "        input_param = example[0].split(\"Input: \")[1]\n",
    "        output_param = example[1].split(\"Output: \")[1]\n",
    "        \n",
    "        testing_code = f\"\"\"\n",
    "            # Example {i+1}\n",
    "            result = s.{function_name}({input_param})\n",
    "            output_param = {output_param}\n",
    "            if result != output_param:\n",
    "                print('expected result -',output_param)\n",
    "                print('got result -',result)\n",
    "            else:\n",
    "                print('tc passed')\n",
    "            \"\"\"\n",
    "\n",
    "        full_testing_code = full_testing_code + testing_code\n",
    "    \n",
    "    full_testing_code = full_testing_code + \"\\nrun_test_case()\"\n",
    "    \n",
    "    return full_testing_code"
   ]
  },
  {
   "cell_type": "code",
   "execution_count": 4,
   "metadata": {},
   "outputs": [],
   "source": [
    "# example input use this to verify if tool is working\n",
    "output_file_name = \"testcase.py\" \n",
    "function_name = 'fun'\n",
    "examples_details =\"\"\"\n",
    "Example 1:\n",
    "\n",
    "Input: s = \"anagram\", t = \"nagaram\"\n",
    "\n",
    "Output: true\n",
    "\n",
    "Example 2:\n",
    "\n",
    "Input: s = \"rat\", t = \"car\"\n",
    "\n",
    "Output: false\n",
    "\n",
    "Explanation: Because nums[0] + nums[1] == 9, we return [0, 1].\n",
    "\n",
    "\"\"\"\n"
   ]
  },
  {
   "cell_type": "code",
   "execution_count": 4,
   "metadata": {},
   "outputs": [],
   "source": [
    "# Actual input\n",
    "output_file_name = \"testcase.py\" \n",
    "function_name = 'trap'\n",
    "examples_details =\"\"\"\n",
    "Example 1:\n",
    "\n",
    "\n",
    "Input: height = [0,1,0,2,1,0,1,3,2,1,2,1]\n",
    "Output: 6\n",
    "Explanation: The above elevation map (black section) is represented by array [0,1,0,2,1,0,1,3,2,1,2,1]. In this case, 6 units of rain water (blue section) are being trapped.\n",
    "Example 2:\n",
    "\n",
    "Input: height = [4,2,0,3,2,5]\n",
    "Output: 9\n",
    "\n",
    "\"\"\"\n"
   ]
  },
  {
   "cell_type": "code",
   "execution_count": 5,
   "metadata": {},
   "outputs": [],
   "source": [
    "# Run tool\n",
    "examples_list = get_example_list(examples_details)\n",
    "testing_code = get_testing_code(examples_list,function_name)\n",
    "with open(output_file_name,'w') as fp:\n",
    "    fp.write(testing_code)\n"
   ]
  }
 ],
 "metadata": {
  "kernelspec": {
   "display_name": "Python 3",
   "language": "python",
   "name": "python3"
  },
  "language_info": {
   "codemirror_mode": {
    "name": "ipython",
    "version": 3
   },
   "file_extension": ".py",
   "mimetype": "text/x-python",
   "name": "python",
   "nbconvert_exporter": "python",
   "pygments_lexer": "ipython3",
   "version": "3.12.1"
  }
 },
 "nbformat": 4,
 "nbformat_minor": 2
}
