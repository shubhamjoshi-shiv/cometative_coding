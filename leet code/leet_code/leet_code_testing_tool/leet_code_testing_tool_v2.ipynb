{
 "cells": [
  {
   "cell_type": "code",
   "execution_count": 3,
   "metadata": {},
   "outputs": [],
   "source": [
    "def get_example_list(examples_details:str)->[int]:\n",
    "    examples_list = []\n",
    "    example_number = -1\n",
    "    examples_details = examples_details.split('\\n')\n",
    "    examples_details\n",
    "    for line in examples_details:\n",
    "        # print(line)\n",
    "        line = line.strip()\n",
    "        line = line.replace('false','False')\n",
    "        line = line.replace('true','True')\n",
    "        if line=='':\n",
    "            pass\n",
    "        elif \"Example\" in line:\n",
    "            # print(line)\n",
    "            example_number += 1\n",
    "            examples_list.append([])\n",
    "        else:\n",
    "            pass\n",
    "            examples_list[example_number].append(line)\n",
    "    return examples_list\n"
   ]
  },
  {
   "cell_type": "code",
   "execution_count": null,
   "metadata": {},
   "outputs": [],
   "source": [
    "def get_testing_code(examples_list,function_name)->str:\n",
    "    full_testing_code = \"\"\"#Testing code\n",
    "def compare_results(result, output_param, input_param, comparison_level):\n",
    "    match comparison_level:\n",
    "        case 0:\n",
    "            if result != output_param:\n",
    "                print('tc failed','expected ->',output_param,result,'<- got', input_param)\n",
    "            else:\n",
    "                print('tc passed')\n",
    "        case 1:\n",
    "            if result != output_param:\n",
    "                print('tc failed','expected ->',output_param,result,'<- got', input_param, sep='\\\\n')\n",
    "            else:\n",
    "                print('tc passed')\n",
    "\n",
    "def run_test_case():\n",
    "    s = Solution()\n",
    "    comparison_level = 0\n",
    "\n",
    "    \"\"\"\n",
    "    for i,example in enumerate(examples_list):\n",
    "        input_param = example[0].split(\"Input: \")[1]\n",
    "        output_param = example[1].split(\"Output: \")[1]\n",
    "        \n",
    "        testing_code = f\"\"\"\n",
    "    # Example {i+1}\n",
    "    result = s.{function_name}({input_param})\n",
    "    input_param = '{input_param}'\n",
    "    output_param = {output_param}\n",
    "    compare_results(result, output_param, input_param, comparison_level)\n",
    "        \"\"\"\n",
    "\n",
    "        full_testing_code = full_testing_code + testing_code\n",
    "    \n",
    "    full_testing_code = full_testing_code + \"\\nrun_test_case()\"\n",
    "    \n",
    "    return full_testing_code"
   ]
  },
  {
   "cell_type": "code",
   "execution_count": 4,
   "metadata": {},
   "outputs": [],
   "source": [
    "# example input use this to verify if tool is working\n",
    "output_file_name = \"testcase.py\" \n",
    "function_name = 'fun'\n",
    "examples_details =\"\"\"\n",
    "Example 1:\n",
    "\n",
    "Input: s = \"anagram\", t = \"nagaram\"\n",
    "\n",
    "Output: true\n",
    "\n",
    "Example 2:\n",
    "\n",
    "Input: s = \"rat\", t = \"car\"\n",
    "\n",
    "Output: false\n",
    "\n",
    "Explanation: Because nums[0] + nums[1] == 9, we return [0, 1].\n",
    "\n",
    "\"\"\"\n"
   ]
  },
  {
   "cell_type": "code",
   "execution_count": 1,
   "metadata": {},
   "outputs": [],
   "source": [
    "# Actual input\n",
    "output_file_name = \"testcase.py\" \n",
    "function_name = 'twoSum'\n",
    "examples_details =\"\"\"\n",
    "\n",
    "Example 1:\n",
    "\n",
    "Input: numbers = [2,7,11,15], target = 9\n",
    "Output: [1,2]\n",
    "Explanation: The sum of 2 and 7 is 9. Therefore, index1 = 1, index2 = 2. We return [1, 2].\n",
    "Example 2:\n",
    "\n",
    "Input: numbers = [2,3,4], target = 6\n",
    "Output: [1,3]\n",
    "Explanation: The sum of 2 and 4 is 6. Therefore index1 = 1, index2 = 3. We return [1, 3].\n",
    "Example 3:\n",
    "\n",
    "Input: numbers = [-1,0], target = -1\n",
    "Output: [1,2]\n",
    "Explanation: The sum of -1 and 0 is -1. Therefore index1 = 1, index2 = 2. We return [1, 2].\n",
    " \n",
    "\n",
    "\"\"\"\n"
   ]
  },
  {
   "cell_type": "code",
   "execution_count": 5,
   "metadata": {},
   "outputs": [],
   "source": [
    "# Run tool\n",
    "examples_list = get_example_list(examples_details)\n",
    "testing_code = get_testing_code(examples_list,function_name)\n",
    "with open(output_file_name,'w') as fp:\n",
    "    fp.write(testing_code)\n"
   ]
  }
 ],
 "metadata": {
  "kernelspec": {
   "display_name": "Python (dashboard_env)",
   "language": "python",
   "name": "dashboard_env"
  },
  "language_info": {
   "codemirror_mode": {
    "name": "ipython",
    "version": 3
   },
   "file_extension": ".py",
   "mimetype": "text/x-python",
   "name": "python",
   "nbconvert_exporter": "python",
   "pygments_lexer": "ipython3",
   "version": "3.13.3"
  }
 },
 "nbformat": 4,
 "nbformat_minor": 2
}
