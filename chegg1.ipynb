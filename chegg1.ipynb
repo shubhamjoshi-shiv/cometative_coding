{
 "cells": [
  {
   "cell_type": "code",
   "execution_count": 13,
   "source": [
    "# there are three important variable \r\n",
    "# \r\n",
    "# boxes = [3, 1, 6]-----------number of boxes\r\n",
    "# unit_per_box = [2, 7, 4]-----------number of units per box\r\n",
    "# there are 3 box with 2 unit ,1 box with 7 unit ,6 box with 4 unit \r\n",
    "# truck_size = 6----------number of box truck can carry\r\n",
    "# truck can carry 6 box \r\n",
    "\r\n",
    "# we have to maximise no.of unit and not the number of box\r\n",
    "# so we will keep 1 box with 7 unit, and 5 box with 4 unit, \r\n",
    "# a total of 6 box with 27 unit,\r\n",
    "# to do this we will \r\n",
    "#   -first find the box with highest number of unit per box \r\n",
    "#   -then keep those boxes in the truck and\r\n",
    "#   -repeat until the truck is full\r\n",
    "# \r\n",
    "\r\n",
    "boxes = [3, 1, 6]\r\n",
    "unit_per_box = [2, 7, 4]\r\n",
    "truck_size = 6\r\n",
    "\r\n",
    "\r\n",
    "units_in_truck = 0\r\n",
    "available_space_in_truck = truck_size\r\n"
   ],
   "outputs": [],
   "metadata": {}
  },
  {
   "cell_type": "code",
   "execution_count": 14,
   "source": [
    "for number_of_elements in range(len(boxes)):        #this is the repeat part\r\n",
    "    pos_of_box_with_most_unit = 0               #this is initially 0\r\n",
    "    for i in range(len(unit_per_box)):          # liniar search to find box with most unit \r\n",
    "        if unit_per_box[i] > unit_per_box[pos_of_box_with_most_unit]:       \r\n",
    "            pos_of_box_with_most_unit = i\r\n",
    "\r\n",
    "\r\n",
    "    if available_space_in_truck == 0: #check if truck is already full\r\n",
    "        break\r\n",
    "    else:\r\n",
    "        if available_space_in_truck >= boxes[pos_of_box_with_most_unit]:         #check if all the box can fit in\r\n",
    "            #update number of units in truck\r\n",
    "            units_in_truck = units_in_truck + (boxes[pos_of_box_with_most_unit]*unit_per_box[pos_of_box_with_most_unit])\r\n",
    "            #update the amount of space left\r\n",
    "            available_space_in_truck = available_space_in_truck - boxes[pos_of_box_with_most_unit]\r\n",
    "            #make the element we filled zero since we dont want to find it again\r\n",
    "            unit_per_box[pos_of_box_with_most_unit]=0\r\n",
    "        else:   #only fill in the available_space_in_truck\r\n",
    "            units_in_truck = units_in_truck + (available_space_in_truck*unit_per_box[pos_of_box_with_most_unit])\r\n",
    "            #now truck is full\r\n",
    "            available_space_in_truck = 0\r\n",
    "            unit_per_box[pos_of_box_with_most_unit]=0\r\n",
    "\r\n",
    "#finally print the answer\r\n",
    "print(units_in_truck)\r\n",
    "\r\n",
    "\r\n"
   ],
   "outputs": [
    {
     "output_type": "stream",
     "name": "stdout",
     "text": [
      "27\n"
     ]
    }
   ],
   "metadata": {}
  },
  {
   "cell_type": "code",
   "execution_count": null,
   "source": [],
   "outputs": [],
   "metadata": {}
  }
 ],
 "metadata": {
  "orig_nbformat": 4,
  "language_info": {
   "name": "python"
  }
 },
 "nbformat": 4,
 "nbformat_minor": 2
}